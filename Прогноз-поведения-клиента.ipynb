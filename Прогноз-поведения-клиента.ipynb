{
 "cells": [
  {
   "cell_type": "markdown",
   "id": "096195a8",
   "metadata": {},
   "source": [
    "<h1> Прогноз поведения клиента"
   ]
  },
  {
   "cell_type": "markdown",
   "id": "5a0bc557",
   "metadata": {},
   "source": [
    "**Описание проекта:**\n",
    "\n",
    "Из «Бета-Банка» стали уходить клиенты. Каждый месяц. Немного, но заметно. Банковские маркетологи посчитали: сохранять текущих клиентов дешевле, чем привлекать новых.\n",
    "\n",
    "\n",
    "**Цель проекта:**\n",
    "\n",
    "Нужно спрогнозировать, уйдёт клиент из банка в ближайшее время или нет, основываясь на исторических данных о поведении клиентов и расторжении договоров с банком. Построим модель с предельно большим значением F1-меры, доведя метрику до 0.59.\n",
    "\n",
    "**Ход исследования:**\n",
    "\n",
    "1. [Обзор данных](#1)\n",
    "2. [Предобработка данных](#2)\n",
    "3. [Исследование задачи](#3)\n",
    "4. [Борьба с дисбалансом](#4)\n",
    "5. [Тестирование модели](#5)\n",
    "6. [Выводы](#6)"
   ]
  },
  {
   "cell_type": "markdown",
   "id": "37a062d1",
   "metadata": {},
   "source": [
    "<a id='1'></a>"
   ]
  },
  {
   "cell_type": "markdown",
   "id": "7d50b432",
   "metadata": {},
   "source": [
    "<h2> Обзор данных"
   ]
  },
  {
   "cell_type": "markdown",
   "id": "ad97374d",
   "metadata": {},
   "source": [
    "Импортируем необходимые библиотеки для будущей работы. Считаем данные из csv-файла в переменную `data` и изучим их.\n",
    "\n",
    "Путь к файлу: `/datasets/Churn.csv`"
   ]
  },
  {
   "cell_type": "code",
   "execution_count": 1,
   "id": "1cf91263",
   "metadata": {},
   "outputs": [],
   "source": [
    "# импорты из стандартной библиотеки\n",
    "import warnings\n",
    "\n",
    "# импорты сторонних библиотек\n",
    "import pandas as pd\n",
    "import re\n",
    "import numpy as np\n",
    "import seaborn as sns\n",
    "import matplotlib.pyplot as plt\n",
    "\n",
    "# импорты модулей текущего проекта\n",
    "from sklearn.metrics import (\n",
    "    f1_score,\n",
    "    accuracy_score,\n",
    "    recall_score,\n",
    "    precision_score,\n",
    "    roc_auc_score,\n",
    "    plot_confusion_matrix,\n",
    "    roc_curve\n",
    ")\n",
    "from sklearn.model_selection import train_test_split, GridSearchCV, KFold\n",
    "from sklearn.tree import DecisionTreeClassifier\n",
    "from sklearn.ensemble import RandomForestClassifier\n",
    "from sklearn.linear_model import LogisticRegression\n",
    "from sklearn.dummy import DummyClassifier\n",
    "from sklearn.preprocessing import StandardScaler, OneHotEncoder\n",
    "from sklearn.utils import shuffle\n",
    "from imblearn.over_sampling import SMOTE\n",
    "from imblearn.under_sampling import RandomUnderSampler\n",
    "\n",
    "# настройки\n",
    "warnings.filterwarnings('ignore')"
   ]
  },
  {
   "cell_type": "code",
   "execution_count": 2,
   "id": "18b20262",
   "metadata": {},
   "outputs": [],
   "source": [
    "def get_data_info(data):\n",
    "    print('Длина датасета:', len(data), '\\nРазмер датасета:', data.shape, '\\n')\n",
    "    display(data.info(), \n",
    "            data.head(), \n",
    "            data.describe(include='all').T, \n",
    "            data.corr().style.background_gradient(cmap='coolwarm'))"
   ]
  },
  {
   "cell_type": "code",
   "execution_count": 3,
   "id": "acbdab02",
   "metadata": {},
   "outputs": [],
   "source": [
    "try:\n",
    "    data = pd.read_csv('C:\\jupyter projects\\Churn.csv')\n",
    "    sns.set_style(\"darkgrid\")\n",
    "except:\n",
    "    data = pd.read_csv('/datasets/Churn.csv')\n",
    "    sns.set_style(\"darkgrid\")"
   ]
  },
  {
   "cell_type": "code",
   "execution_count": 4,
   "id": "1bae938d",
   "metadata": {},
   "outputs": [
    {
     "name": "stdout",
     "output_type": "stream",
     "text": [
      "Длина датасета: 10000 \n",
      "Размер датасета: (10000, 14) \n",
      "\n",
      "<class 'pandas.core.frame.DataFrame'>\n",
      "RangeIndex: 10000 entries, 0 to 9999\n",
      "Data columns (total 14 columns):\n",
      " #   Column           Non-Null Count  Dtype  \n",
      "---  ------           --------------  -----  \n",
      " 0   RowNumber        10000 non-null  int64  \n",
      " 1   CustomerId       10000 non-null  int64  \n",
      " 2   Surname          10000 non-null  object \n",
      " 3   CreditScore      10000 non-null  int64  \n",
      " 4   Geography        10000 non-null  object \n",
      " 5   Gender           10000 non-null  object \n",
      " 6   Age              10000 non-null  int64  \n",
      " 7   Tenure           9091 non-null   float64\n",
      " 8   Balance          10000 non-null  float64\n",
      " 9   NumOfProducts    10000 non-null  int64  \n",
      " 10  HasCrCard        10000 non-null  int64  \n",
      " 11  IsActiveMember   10000 non-null  int64  \n",
      " 12  EstimatedSalary  10000 non-null  float64\n",
      " 13  Exited           10000 non-null  int64  \n",
      "dtypes: float64(3), int64(8), object(3)\n",
      "memory usage: 1.1+ MB\n"
     ]
    },
    {
     "data": {
      "text/plain": [
       "None"
      ]
     },
     "metadata": {},
     "output_type": "display_data"
    },
    {
     "data": {
      "text/html": [
       "<div>\n",
       "<style scoped>\n",
       "    .dataframe tbody tr th:only-of-type {\n",
       "        vertical-align: middle;\n",
       "    }\n",
       "\n",
       "    .dataframe tbody tr th {\n",
       "        vertical-align: top;\n",
       "    }\n",
       "\n",
       "    .dataframe thead th {\n",
       "        text-align: right;\n",
       "    }\n",
       "</style>\n",
       "<table border=\"1\" class=\"dataframe\">\n",
       "  <thead>\n",
       "    <tr style=\"text-align: right;\">\n",
       "      <th></th>\n",
       "      <th>RowNumber</th>\n",
       "      <th>CustomerId</th>\n",
       "      <th>Surname</th>\n",
       "      <th>CreditScore</th>\n",
       "      <th>Geography</th>\n",
       "      <th>Gender</th>\n",
       "      <th>Age</th>\n",
       "      <th>Tenure</th>\n",
       "      <th>Balance</th>\n",
       "      <th>NumOfProducts</th>\n",
       "      <th>HasCrCard</th>\n",
       "      <th>IsActiveMember</th>\n",
       "      <th>EstimatedSalary</th>\n",
       "      <th>Exited</th>\n",
       "    </tr>\n",
       "  </thead>\n",
       "  <tbody>\n",
       "    <tr>\n",
       "      <th>0</th>\n",
       "      <td>1</td>\n",
       "      <td>15634602</td>\n",
       "      <td>Hargrave</td>\n",
       "      <td>619</td>\n",
       "      <td>France</td>\n",
       "      <td>Female</td>\n",
       "      <td>42</td>\n",
       "      <td>2.0</td>\n",
       "      <td>0.00</td>\n",
       "      <td>1</td>\n",
       "      <td>1</td>\n",
       "      <td>1</td>\n",
       "      <td>101348.88</td>\n",
       "      <td>1</td>\n",
       "    </tr>\n",
       "    <tr>\n",
       "      <th>1</th>\n",
       "      <td>2</td>\n",
       "      <td>15647311</td>\n",
       "      <td>Hill</td>\n",
       "      <td>608</td>\n",
       "      <td>Spain</td>\n",
       "      <td>Female</td>\n",
       "      <td>41</td>\n",
       "      <td>1.0</td>\n",
       "      <td>83807.86</td>\n",
       "      <td>1</td>\n",
       "      <td>0</td>\n",
       "      <td>1</td>\n",
       "      <td>112542.58</td>\n",
       "      <td>0</td>\n",
       "    </tr>\n",
       "    <tr>\n",
       "      <th>2</th>\n",
       "      <td>3</td>\n",
       "      <td>15619304</td>\n",
       "      <td>Onio</td>\n",
       "      <td>502</td>\n",
       "      <td>France</td>\n",
       "      <td>Female</td>\n",
       "      <td>42</td>\n",
       "      <td>8.0</td>\n",
       "      <td>159660.80</td>\n",
       "      <td>3</td>\n",
       "      <td>1</td>\n",
       "      <td>0</td>\n",
       "      <td>113931.57</td>\n",
       "      <td>1</td>\n",
       "    </tr>\n",
       "    <tr>\n",
       "      <th>3</th>\n",
       "      <td>4</td>\n",
       "      <td>15701354</td>\n",
       "      <td>Boni</td>\n",
       "      <td>699</td>\n",
       "      <td>France</td>\n",
       "      <td>Female</td>\n",
       "      <td>39</td>\n",
       "      <td>1.0</td>\n",
       "      <td>0.00</td>\n",
       "      <td>2</td>\n",
       "      <td>0</td>\n",
       "      <td>0</td>\n",
       "      <td>93826.63</td>\n",
       "      <td>0</td>\n",
       "    </tr>\n",
       "    <tr>\n",
       "      <th>4</th>\n",
       "      <td>5</td>\n",
       "      <td>15737888</td>\n",
       "      <td>Mitchell</td>\n",
       "      <td>850</td>\n",
       "      <td>Spain</td>\n",
       "      <td>Female</td>\n",
       "      <td>43</td>\n",
       "      <td>2.0</td>\n",
       "      <td>125510.82</td>\n",
       "      <td>1</td>\n",
       "      <td>1</td>\n",
       "      <td>1</td>\n",
       "      <td>79084.10</td>\n",
       "      <td>0</td>\n",
       "    </tr>\n",
       "  </tbody>\n",
       "</table>\n",
       "</div>"
      ],
      "text/plain": [
       "   RowNumber  CustomerId   Surname  CreditScore Geography  Gender  Age  \\\n",
       "0          1    15634602  Hargrave          619    France  Female   42   \n",
       "1          2    15647311      Hill          608     Spain  Female   41   \n",
       "2          3    15619304      Onio          502    France  Female   42   \n",
       "3          4    15701354      Boni          699    France  Female   39   \n",
       "4          5    15737888  Mitchell          850     Spain  Female   43   \n",
       "\n",
       "   Tenure    Balance  NumOfProducts  HasCrCard  IsActiveMember  \\\n",
       "0     2.0       0.00              1          1               1   \n",
       "1     1.0   83807.86              1          0               1   \n",
       "2     8.0  159660.80              3          1               0   \n",
       "3     1.0       0.00              2          0               0   \n",
       "4     2.0  125510.82              1          1               1   \n",
       "\n",
       "   EstimatedSalary  Exited  \n",
       "0        101348.88       1  \n",
       "1        112542.58       0  \n",
       "2        113931.57       1  \n",
       "3         93826.63       0  \n",
       "4         79084.10       0  "
      ]
     },
     "metadata": {},
     "output_type": "display_data"
    },
    {
     "data": {
      "text/html": [
       "<div>\n",
       "<style scoped>\n",
       "    .dataframe tbody tr th:only-of-type {\n",
       "        vertical-align: middle;\n",
       "    }\n",
       "\n",
       "    .dataframe tbody tr th {\n",
       "        vertical-align: top;\n",
       "    }\n",
       "\n",
       "    .dataframe thead th {\n",
       "        text-align: right;\n",
       "    }\n",
       "</style>\n",
       "<table border=\"1\" class=\"dataframe\">\n",
       "  <thead>\n",
       "    <tr style=\"text-align: right;\">\n",
       "      <th></th>\n",
       "      <th>count</th>\n",
       "      <th>unique</th>\n",
       "      <th>top</th>\n",
       "      <th>freq</th>\n",
       "      <th>mean</th>\n",
       "      <th>std</th>\n",
       "      <th>min</th>\n",
       "      <th>25%</th>\n",
       "      <th>50%</th>\n",
       "      <th>75%</th>\n",
       "      <th>max</th>\n",
       "    </tr>\n",
       "  </thead>\n",
       "  <tbody>\n",
       "    <tr>\n",
       "      <th>RowNumber</th>\n",
       "      <td>10000.0</td>\n",
       "      <td>NaN</td>\n",
       "      <td>NaN</td>\n",
       "      <td>NaN</td>\n",
       "      <td>5000.5</td>\n",
       "      <td>2886.89568</td>\n",
       "      <td>1.0</td>\n",
       "      <td>2500.75</td>\n",
       "      <td>5000.5</td>\n",
       "      <td>7500.25</td>\n",
       "      <td>10000.0</td>\n",
       "    </tr>\n",
       "    <tr>\n",
       "      <th>CustomerId</th>\n",
       "      <td>10000.0</td>\n",
       "      <td>NaN</td>\n",
       "      <td>NaN</td>\n",
       "      <td>NaN</td>\n",
       "      <td>15690940.5694</td>\n",
       "      <td>71936.186123</td>\n",
       "      <td>15565701.0</td>\n",
       "      <td>15628528.25</td>\n",
       "      <td>15690738.0</td>\n",
       "      <td>15753233.75</td>\n",
       "      <td>15815690.0</td>\n",
       "    </tr>\n",
       "    <tr>\n",
       "      <th>Surname</th>\n",
       "      <td>10000</td>\n",
       "      <td>2932</td>\n",
       "      <td>Smith</td>\n",
       "      <td>32</td>\n",
       "      <td>NaN</td>\n",
       "      <td>NaN</td>\n",
       "      <td>NaN</td>\n",
       "      <td>NaN</td>\n",
       "      <td>NaN</td>\n",
       "      <td>NaN</td>\n",
       "      <td>NaN</td>\n",
       "    </tr>\n",
       "    <tr>\n",
       "      <th>CreditScore</th>\n",
       "      <td>10000.0</td>\n",
       "      <td>NaN</td>\n",
       "      <td>NaN</td>\n",
       "      <td>NaN</td>\n",
       "      <td>650.5288</td>\n",
       "      <td>96.653299</td>\n",
       "      <td>350.0</td>\n",
       "      <td>584.0</td>\n",
       "      <td>652.0</td>\n",
       "      <td>718.0</td>\n",
       "      <td>850.0</td>\n",
       "    </tr>\n",
       "    <tr>\n",
       "      <th>Geography</th>\n",
       "      <td>10000</td>\n",
       "      <td>3</td>\n",
       "      <td>France</td>\n",
       "      <td>5014</td>\n",
       "      <td>NaN</td>\n",
       "      <td>NaN</td>\n",
       "      <td>NaN</td>\n",
       "      <td>NaN</td>\n",
       "      <td>NaN</td>\n",
       "      <td>NaN</td>\n",
       "      <td>NaN</td>\n",
       "    </tr>\n",
       "    <tr>\n",
       "      <th>Gender</th>\n",
       "      <td>10000</td>\n",
       "      <td>2</td>\n",
       "      <td>Male</td>\n",
       "      <td>5457</td>\n",
       "      <td>NaN</td>\n",
       "      <td>NaN</td>\n",
       "      <td>NaN</td>\n",
       "      <td>NaN</td>\n",
       "      <td>NaN</td>\n",
       "      <td>NaN</td>\n",
       "      <td>NaN</td>\n",
       "    </tr>\n",
       "    <tr>\n",
       "      <th>Age</th>\n",
       "      <td>10000.0</td>\n",
       "      <td>NaN</td>\n",
       "      <td>NaN</td>\n",
       "      <td>NaN</td>\n",
       "      <td>38.9218</td>\n",
       "      <td>10.487806</td>\n",
       "      <td>18.0</td>\n",
       "      <td>32.0</td>\n",
       "      <td>37.0</td>\n",
       "      <td>44.0</td>\n",
       "      <td>92.0</td>\n",
       "    </tr>\n",
       "    <tr>\n",
       "      <th>Tenure</th>\n",
       "      <td>9091.0</td>\n",
       "      <td>NaN</td>\n",
       "      <td>NaN</td>\n",
       "      <td>NaN</td>\n",
       "      <td>4.99769</td>\n",
       "      <td>2.894723</td>\n",
       "      <td>0.0</td>\n",
       "      <td>2.0</td>\n",
       "      <td>5.0</td>\n",
       "      <td>7.0</td>\n",
       "      <td>10.0</td>\n",
       "    </tr>\n",
       "    <tr>\n",
       "      <th>Balance</th>\n",
       "      <td>10000.0</td>\n",
       "      <td>NaN</td>\n",
       "      <td>NaN</td>\n",
       "      <td>NaN</td>\n",
       "      <td>76485.889288</td>\n",
       "      <td>62397.405202</td>\n",
       "      <td>0.0</td>\n",
       "      <td>0.0</td>\n",
       "      <td>97198.54</td>\n",
       "      <td>127644.24</td>\n",
       "      <td>250898.09</td>\n",
       "    </tr>\n",
       "    <tr>\n",
       "      <th>NumOfProducts</th>\n",
       "      <td>10000.0</td>\n",
       "      <td>NaN</td>\n",
       "      <td>NaN</td>\n",
       "      <td>NaN</td>\n",
       "      <td>1.5302</td>\n",
       "      <td>0.581654</td>\n",
       "      <td>1.0</td>\n",
       "      <td>1.0</td>\n",
       "      <td>1.0</td>\n",
       "      <td>2.0</td>\n",
       "      <td>4.0</td>\n",
       "    </tr>\n",
       "    <tr>\n",
       "      <th>HasCrCard</th>\n",
       "      <td>10000.0</td>\n",
       "      <td>NaN</td>\n",
       "      <td>NaN</td>\n",
       "      <td>NaN</td>\n",
       "      <td>0.7055</td>\n",
       "      <td>0.45584</td>\n",
       "      <td>0.0</td>\n",
       "      <td>0.0</td>\n",
       "      <td>1.0</td>\n",
       "      <td>1.0</td>\n",
       "      <td>1.0</td>\n",
       "    </tr>\n",
       "    <tr>\n",
       "      <th>IsActiveMember</th>\n",
       "      <td>10000.0</td>\n",
       "      <td>NaN</td>\n",
       "      <td>NaN</td>\n",
       "      <td>NaN</td>\n",
       "      <td>0.5151</td>\n",
       "      <td>0.499797</td>\n",
       "      <td>0.0</td>\n",
       "      <td>0.0</td>\n",
       "      <td>1.0</td>\n",
       "      <td>1.0</td>\n",
       "      <td>1.0</td>\n",
       "    </tr>\n",
       "    <tr>\n",
       "      <th>EstimatedSalary</th>\n",
       "      <td>10000.0</td>\n",
       "      <td>NaN</td>\n",
       "      <td>NaN</td>\n",
       "      <td>NaN</td>\n",
       "      <td>100090.239881</td>\n",
       "      <td>57510.492818</td>\n",
       "      <td>11.58</td>\n",
       "      <td>51002.11</td>\n",
       "      <td>100193.915</td>\n",
       "      <td>149388.2475</td>\n",
       "      <td>199992.48</td>\n",
       "    </tr>\n",
       "    <tr>\n",
       "      <th>Exited</th>\n",
       "      <td>10000.0</td>\n",
       "      <td>NaN</td>\n",
       "      <td>NaN</td>\n",
       "      <td>NaN</td>\n",
       "      <td>0.2037</td>\n",
       "      <td>0.402769</td>\n",
       "      <td>0.0</td>\n",
       "      <td>0.0</td>\n",
       "      <td>0.0</td>\n",
       "      <td>0.0</td>\n",
       "      <td>1.0</td>\n",
       "    </tr>\n",
       "  </tbody>\n",
       "</table>\n",
       "</div>"
      ],
      "text/plain": [
       "                   count unique     top  freq           mean           std  \\\n",
       "RowNumber        10000.0    NaN     NaN   NaN         5000.5    2886.89568   \n",
       "CustomerId       10000.0    NaN     NaN   NaN  15690940.5694  71936.186123   \n",
       "Surname            10000   2932   Smith    32            NaN           NaN   \n",
       "CreditScore      10000.0    NaN     NaN   NaN       650.5288     96.653299   \n",
       "Geography          10000      3  France  5014            NaN           NaN   \n",
       "Gender             10000      2    Male  5457            NaN           NaN   \n",
       "Age              10000.0    NaN     NaN   NaN        38.9218     10.487806   \n",
       "Tenure            9091.0    NaN     NaN   NaN        4.99769      2.894723   \n",
       "Balance          10000.0    NaN     NaN   NaN   76485.889288  62397.405202   \n",
       "NumOfProducts    10000.0    NaN     NaN   NaN         1.5302      0.581654   \n",
       "HasCrCard        10000.0    NaN     NaN   NaN         0.7055       0.45584   \n",
       "IsActiveMember   10000.0    NaN     NaN   NaN         0.5151      0.499797   \n",
       "EstimatedSalary  10000.0    NaN     NaN   NaN  100090.239881  57510.492818   \n",
       "Exited           10000.0    NaN     NaN   NaN         0.2037      0.402769   \n",
       "\n",
       "                        min          25%         50%          75%         max  \n",
       "RowNumber               1.0      2500.75      5000.5      7500.25     10000.0  \n",
       "CustomerId       15565701.0  15628528.25  15690738.0  15753233.75  15815690.0  \n",
       "Surname                 NaN          NaN         NaN          NaN         NaN  \n",
       "CreditScore           350.0        584.0       652.0        718.0       850.0  \n",
       "Geography               NaN          NaN         NaN          NaN         NaN  \n",
       "Gender                  NaN          NaN         NaN          NaN         NaN  \n",
       "Age                    18.0         32.0        37.0         44.0        92.0  \n",
       "Tenure                  0.0          2.0         5.0          7.0        10.0  \n",
       "Balance                 0.0          0.0    97198.54    127644.24   250898.09  \n",
       "NumOfProducts           1.0          1.0         1.0          2.0         4.0  \n",
       "HasCrCard               0.0          0.0         1.0          1.0         1.0  \n",
       "IsActiveMember          0.0          0.0         1.0          1.0         1.0  \n",
       "EstimatedSalary       11.58     51002.11  100193.915  149388.2475   199992.48  \n",
       "Exited                  0.0          0.0         0.0          0.0         1.0  "
      ]
     },
     "metadata": {},
     "output_type": "display_data"
    },
    {
     "data": {
      "text/html": [
       "<style  type=\"text/css\" >\n",
       "#T_9a05e_row0_col0,#T_9a05e_row1_col1,#T_9a05e_row2_col2,#T_9a05e_row3_col3,#T_9a05e_row4_col4,#T_9a05e_row5_col5,#T_9a05e_row6_col6,#T_9a05e_row7_col7,#T_9a05e_row8_col8,#T_9a05e_row9_col9,#T_9a05e_row10_col10{\n",
       "            background-color:  #b40426;\n",
       "            color:  #f1f1f1;\n",
       "        }#T_9a05e_row0_col1,#T_9a05e_row0_col4,#T_9a05e_row1_col9,#T_9a05e_row2_col1,#T_9a05e_row2_col3,#T_9a05e_row4_col2,#T_9a05e_row5_col4,#T_9a05e_row5_col9,#T_9a05e_row6_col9,#T_9a05e_row9_col2{\n",
       "            background-color:  #4257c9;\n",
       "            color:  #f1f1f1;\n",
       "        }#T_9a05e_row0_col2,#T_9a05e_row1_col2,#T_9a05e_row5_col2{\n",
       "            background-color:  #445acc;\n",
       "            color:  #f1f1f1;\n",
       "        }#T_9a05e_row0_col3,#T_9a05e_row2_col4,#T_9a05e_row3_col1,#T_9a05e_row8_col0{\n",
       "            background-color:  #4358cb;\n",
       "            color:  #f1f1f1;\n",
       "        }#T_9a05e_row0_col5,#T_9a05e_row1_col5,#T_9a05e_row8_col5{\n",
       "            background-color:  #84a7fc;\n",
       "            color:  #000000;\n",
       "        }#T_9a05e_row0_col6,#T_9a05e_row8_col6{\n",
       "            background-color:  #89acfd;\n",
       "            color:  #000000;\n",
       "        }#T_9a05e_row0_col7,#T_9a05e_row10_col1,#T_9a05e_row10_col4{\n",
       "            background-color:  #3e51c5;\n",
       "            color:  #f1f1f1;\n",
       "        }#T_9a05e_row0_col8,#T_9a05e_row9_col10{\n",
       "            background-color:  #688aef;\n",
       "            color:  #000000;\n",
       "        }#T_9a05e_row0_col9,#T_9a05e_row3_col9,#T_9a05e_row5_col0,#T_9a05e_row7_col1,#T_9a05e_row9_col7,#T_9a05e_row10_col7{\n",
       "            background-color:  #3c4ec2;\n",
       "            color:  #f1f1f1;\n",
       "        }#T_9a05e_row0_col10,#T_9a05e_row4_col10{\n",
       "            background-color:  #5f7fe8;\n",
       "            color:  #000000;\n",
       "        }#T_9a05e_row1_col0,#T_9a05e_row2_col0,#T_9a05e_row3_col2,#T_9a05e_row4_col9,#T_9a05e_row6_col0,#T_9a05e_row7_col2,#T_9a05e_row8_col1,#T_9a05e_row9_col3,#T_9a05e_row10_col9{\n",
       "            background-color:  #4055c8;\n",
       "            color:  #f1f1f1;\n",
       "        }#T_9a05e_row1_col3,#T_9a05e_row6_col1,#T_9a05e_row6_col2,#T_9a05e_row9_col1{\n",
       "            background-color:  #455cce;\n",
       "            color:  #f1f1f1;\n",
       "        }#T_9a05e_row1_col4,#T_9a05e_row2_col7,#T_9a05e_row2_col9,#T_9a05e_row4_col0,#T_9a05e_row5_col1,#T_9a05e_row9_col0{\n",
       "            background-color:  #3d50c3;\n",
       "            color:  #f1f1f1;\n",
       "        }#T_9a05e_row1_col6{\n",
       "            background-color:  #8caffe;\n",
       "            color:  #000000;\n",
       "        }#T_9a05e_row1_col7,#T_9a05e_row3_col7,#T_9a05e_row4_col1,#T_9a05e_row5_col6,#T_9a05e_row5_col7,#T_9a05e_row6_col3,#T_9a05e_row6_col5,#T_9a05e_row7_col9,#T_9a05e_row8_col4,#T_9a05e_row8_col7,#T_9a05e_row8_col9,#T_9a05e_row8_col10,#T_9a05e_row10_col0,#T_9a05e_row10_col2,#T_9a05e_row10_col8{\n",
       "            background-color:  #3b4cc0;\n",
       "            color:  #f1f1f1;\n",
       "        }#T_9a05e_row1_col8{\n",
       "            background-color:  #6485ec;\n",
       "            color:  #000000;\n",
       "        }#T_9a05e_row1_col10{\n",
       "            background-color:  #6384eb;\n",
       "            color:  #000000;\n",
       "        }#T_9a05e_row2_col5,#T_9a05e_row5_col10,#T_9a05e_row7_col6{\n",
       "            background-color:  #88abfd;\n",
       "            color:  #000000;\n",
       "        }#T_9a05e_row2_col6,#T_9a05e_row4_col6,#T_9a05e_row9_col5,#T_9a05e_row9_col6{\n",
       "            background-color:  #8badfd;\n",
       "            color:  #000000;\n",
       "        }#T_9a05e_row2_col8{\n",
       "            background-color:  #6c8ff1;\n",
       "            color:  #000000;\n",
       "        }#T_9a05e_row2_col10,#T_9a05e_row8_col3{\n",
       "            background-color:  #5d7ce6;\n",
       "            color:  #000000;\n",
       "        }#T_9a05e_row3_col0,#T_9a05e_row3_col4,#T_9a05e_row4_col3,#T_9a05e_row6_col7,#T_9a05e_row7_col0,#T_9a05e_row7_col3{\n",
       "            background-color:  #3f53c6;\n",
       "            color:  #f1f1f1;\n",
       "        }#T_9a05e_row3_col5{\n",
       "            background-color:  #8fb1fe;\n",
       "            color:  #000000;\n",
       "        }#T_9a05e_row3_col6,#T_9a05e_row3_col8{\n",
       "            background-color:  #7ea1fa;\n",
       "            color:  #000000;\n",
       "        }#T_9a05e_row3_col10{\n",
       "            background-color:  #bad0f8;\n",
       "            color:  #000000;\n",
       "        }#T_9a05e_row4_col5{\n",
       "            background-color:  #85a8fc;\n",
       "            color:  #000000;\n",
       "        }#T_9a05e_row4_col7,#T_9a05e_row6_col4,#T_9a05e_row9_col4{\n",
       "            background-color:  #465ecf;\n",
       "            color:  #f1f1f1;\n",
       "        }#T_9a05e_row4_col8{\n",
       "            background-color:  #5b7ae5;\n",
       "            color:  #000000;\n",
       "        }#T_9a05e_row5_col3,#T_9a05e_row7_col4{\n",
       "            background-color:  #4b64d5;\n",
       "            color:  #f1f1f1;\n",
       "        }#T_9a05e_row5_col8,#T_9a05e_row7_col10,#T_9a05e_row9_col8{\n",
       "            background-color:  #6282ea;\n",
       "            color:  #000000;\n",
       "        }#T_9a05e_row6_col8{\n",
       "            background-color:  #6788ee;\n",
       "            color:  #000000;\n",
       "        }#T_9a05e_row6_col10{\n",
       "            background-color:  #5673e0;\n",
       "            color:  #000000;\n",
       "        }#T_9a05e_row7_col5{\n",
       "            background-color:  #82a6fb;\n",
       "            color:  #000000;\n",
       "        }#T_9a05e_row7_col8{\n",
       "            background-color:  #6180e9;\n",
       "            color:  #000000;\n",
       "        }#T_9a05e_row8_col2{\n",
       "            background-color:  #4a63d3;\n",
       "            color:  #f1f1f1;\n",
       "        }#T_9a05e_row10_col3{\n",
       "            background-color:  #a1c0ff;\n",
       "            color:  #000000;\n",
       "        }#T_9a05e_row10_col5{\n",
       "            background-color:  #a6c4fe;\n",
       "            color:  #000000;\n",
       "        }#T_9a05e_row10_col6{\n",
       "            background-color:  #7a9df8;\n",
       "            color:  #000000;\n",
       "        }</style><table id=\"T_9a05e_\" ><thead>    <tr>        <th class=\"blank level0\" ></th>        <th class=\"col_heading level0 col0\" >RowNumber</th>        <th class=\"col_heading level0 col1\" >CustomerId</th>        <th class=\"col_heading level0 col2\" >CreditScore</th>        <th class=\"col_heading level0 col3\" >Age</th>        <th class=\"col_heading level0 col4\" >Tenure</th>        <th class=\"col_heading level0 col5\" >Balance</th>        <th class=\"col_heading level0 col6\" >NumOfProducts</th>        <th class=\"col_heading level0 col7\" >HasCrCard</th>        <th class=\"col_heading level0 col8\" >IsActiveMember</th>        <th class=\"col_heading level0 col9\" >EstimatedSalary</th>        <th class=\"col_heading level0 col10\" >Exited</th>    </tr></thead><tbody>\n",
       "                <tr>\n",
       "                        <th id=\"T_9a05e_level0_row0\" class=\"row_heading level0 row0\" >RowNumber</th>\n",
       "                        <td id=\"T_9a05e_row0_col0\" class=\"data row0 col0\" >1.000000</td>\n",
       "                        <td id=\"T_9a05e_row0_col1\" class=\"data row0 col1\" >0.004202</td>\n",
       "                        <td id=\"T_9a05e_row0_col2\" class=\"data row0 col2\" >0.005840</td>\n",
       "                        <td id=\"T_9a05e_row0_col3\" class=\"data row0 col3\" >0.000783</td>\n",
       "                        <td id=\"T_9a05e_row0_col4\" class=\"data row0 col4\" >-0.007322</td>\n",
       "                        <td id=\"T_9a05e_row0_col5\" class=\"data row0 col5\" >-0.009067</td>\n",
       "                        <td id=\"T_9a05e_row0_col6\" class=\"data row0 col6\" >0.007246</td>\n",
       "                        <td id=\"T_9a05e_row0_col7\" class=\"data row0 col7\" >0.000599</td>\n",
       "                        <td id=\"T_9a05e_row0_col8\" class=\"data row0 col8\" >0.012044</td>\n",
       "                        <td id=\"T_9a05e_row0_col9\" class=\"data row0 col9\" >-0.005988</td>\n",
       "                        <td id=\"T_9a05e_row0_col10\" class=\"data row0 col10\" >-0.016571</td>\n",
       "            </tr>\n",
       "            <tr>\n",
       "                        <th id=\"T_9a05e_level0_row1\" class=\"row_heading level0 row1\" >CustomerId</th>\n",
       "                        <td id=\"T_9a05e_row1_col0\" class=\"data row1 col0\" >0.004202</td>\n",
       "                        <td id=\"T_9a05e_row1_col1\" class=\"data row1 col1\" >1.000000</td>\n",
       "                        <td id=\"T_9a05e_row1_col2\" class=\"data row1 col2\" >0.005308</td>\n",
       "                        <td id=\"T_9a05e_row1_col3\" class=\"data row1 col3\" >0.009497</td>\n",
       "                        <td id=\"T_9a05e_row1_col4\" class=\"data row1 col4\" >-0.021418</td>\n",
       "                        <td id=\"T_9a05e_row1_col5\" class=\"data row1 col5\" >-0.012419</td>\n",
       "                        <td id=\"T_9a05e_row1_col6\" class=\"data row1 col6\" >0.016972</td>\n",
       "                        <td id=\"T_9a05e_row1_col7\" class=\"data row1 col7\" >-0.014025</td>\n",
       "                        <td id=\"T_9a05e_row1_col8\" class=\"data row1 col8\" >0.001665</td>\n",
       "                        <td id=\"T_9a05e_row1_col9\" class=\"data row1 col9\" >0.015271</td>\n",
       "                        <td id=\"T_9a05e_row1_col10\" class=\"data row1 col10\" >-0.006248</td>\n",
       "            </tr>\n",
       "            <tr>\n",
       "                        <th id=\"T_9a05e_level0_row2\" class=\"row_heading level0 row2\" >CreditScore</th>\n",
       "                        <td id=\"T_9a05e_row2_col0\" class=\"data row2 col0\" >0.005840</td>\n",
       "                        <td id=\"T_9a05e_row2_col1\" class=\"data row2 col1\" >0.005308</td>\n",
       "                        <td id=\"T_9a05e_row2_col2\" class=\"data row2 col2\" >1.000000</td>\n",
       "                        <td id=\"T_9a05e_row2_col3\" class=\"data row2 col3\" >-0.003965</td>\n",
       "                        <td id=\"T_9a05e_row2_col4\" class=\"data row2 col4\" >-0.000062</td>\n",
       "                        <td id=\"T_9a05e_row2_col5\" class=\"data row2 col5\" >0.006268</td>\n",
       "                        <td id=\"T_9a05e_row2_col6\" class=\"data row2 col6\" >0.012238</td>\n",
       "                        <td id=\"T_9a05e_row2_col7\" class=\"data row2 col7\" >-0.005458</td>\n",
       "                        <td id=\"T_9a05e_row2_col8\" class=\"data row2 col8\" >0.025651</td>\n",
       "                        <td id=\"T_9a05e_row2_col9\" class=\"data row2 col9\" >-0.001384</td>\n",
       "                        <td id=\"T_9a05e_row2_col10\" class=\"data row2 col10\" >-0.027094</td>\n",
       "            </tr>\n",
       "            <tr>\n",
       "                        <th id=\"T_9a05e_level0_row3\" class=\"row_heading level0 row3\" >Age</th>\n",
       "                        <td id=\"T_9a05e_row3_col0\" class=\"data row3 col0\" >0.000783</td>\n",
       "                        <td id=\"T_9a05e_row3_col1\" class=\"data row3 col1\" >0.009497</td>\n",
       "                        <td id=\"T_9a05e_row3_col2\" class=\"data row3 col2\" >-0.003965</td>\n",
       "                        <td id=\"T_9a05e_row3_col3\" class=\"data row3 col3\" >1.000000</td>\n",
       "                        <td id=\"T_9a05e_row3_col4\" class=\"data row3 col4\" >-0.013134</td>\n",
       "                        <td id=\"T_9a05e_row3_col5\" class=\"data row3 col5\" >0.028308</td>\n",
       "                        <td id=\"T_9a05e_row3_col6\" class=\"data row3 col6\" >-0.030680</td>\n",
       "                        <td id=\"T_9a05e_row3_col7\" class=\"data row3 col7\" >-0.011721</td>\n",
       "                        <td id=\"T_9a05e_row3_col8\" class=\"data row3 col8\" >0.085472</td>\n",
       "                        <td id=\"T_9a05e_row3_col9\" class=\"data row3 col9\" >-0.007201</td>\n",
       "                        <td id=\"T_9a05e_row3_col10\" class=\"data row3 col10\" >0.285323</td>\n",
       "            </tr>\n",
       "            <tr>\n",
       "                        <th id=\"T_9a05e_level0_row4\" class=\"row_heading level0 row4\" >Tenure</th>\n",
       "                        <td id=\"T_9a05e_row4_col0\" class=\"data row4 col0\" >-0.007322</td>\n",
       "                        <td id=\"T_9a05e_row4_col1\" class=\"data row4 col1\" >-0.021418</td>\n",
       "                        <td id=\"T_9a05e_row4_col2\" class=\"data row4 col2\" >-0.000062</td>\n",
       "                        <td id=\"T_9a05e_row4_col3\" class=\"data row4 col3\" >-0.013134</td>\n",
       "                        <td id=\"T_9a05e_row4_col4\" class=\"data row4 col4\" >1.000000</td>\n",
       "                        <td id=\"T_9a05e_row4_col5\" class=\"data row4 col5\" >-0.007911</td>\n",
       "                        <td id=\"T_9a05e_row4_col6\" class=\"data row4 col6\" >0.011979</td>\n",
       "                        <td id=\"T_9a05e_row4_col7\" class=\"data row4 col7\" >0.027232</td>\n",
       "                        <td id=\"T_9a05e_row4_col8\" class=\"data row4 col8\" >-0.032178</td>\n",
       "                        <td id=\"T_9a05e_row4_col9\" class=\"data row4 col9\" >0.010520</td>\n",
       "                        <td id=\"T_9a05e_row4_col10\" class=\"data row4 col10\" >-0.016761</td>\n",
       "            </tr>\n",
       "            <tr>\n",
       "                        <th id=\"T_9a05e_level0_row5\" class=\"row_heading level0 row5\" >Balance</th>\n",
       "                        <td id=\"T_9a05e_row5_col0\" class=\"data row5 col0\" >-0.009067</td>\n",
       "                        <td id=\"T_9a05e_row5_col1\" class=\"data row5 col1\" >-0.012419</td>\n",
       "                        <td id=\"T_9a05e_row5_col2\" class=\"data row5 col2\" >0.006268</td>\n",
       "                        <td id=\"T_9a05e_row5_col3\" class=\"data row5 col3\" >0.028308</td>\n",
       "                        <td id=\"T_9a05e_row5_col4\" class=\"data row5 col4\" >-0.007911</td>\n",
       "                        <td id=\"T_9a05e_row5_col5\" class=\"data row5 col5\" >1.000000</td>\n",
       "                        <td id=\"T_9a05e_row5_col6\" class=\"data row5 col6\" >-0.304180</td>\n",
       "                        <td id=\"T_9a05e_row5_col7\" class=\"data row5 col7\" >-0.014858</td>\n",
       "                        <td id=\"T_9a05e_row5_col8\" class=\"data row5 col8\" >-0.010084</td>\n",
       "                        <td id=\"T_9a05e_row5_col9\" class=\"data row5 col9\" >0.012797</td>\n",
       "                        <td id=\"T_9a05e_row5_col10\" class=\"data row5 col10\" >0.118533</td>\n",
       "            </tr>\n",
       "            <tr>\n",
       "                        <th id=\"T_9a05e_level0_row6\" class=\"row_heading level0 row6\" >NumOfProducts</th>\n",
       "                        <td id=\"T_9a05e_row6_col0\" class=\"data row6 col0\" >0.007246</td>\n",
       "                        <td id=\"T_9a05e_row6_col1\" class=\"data row6 col1\" >0.016972</td>\n",
       "                        <td id=\"T_9a05e_row6_col2\" class=\"data row6 col2\" >0.012238</td>\n",
       "                        <td id=\"T_9a05e_row6_col3\" class=\"data row6 col3\" >-0.030680</td>\n",
       "                        <td id=\"T_9a05e_row6_col4\" class=\"data row6 col4\" >0.011979</td>\n",
       "                        <td id=\"T_9a05e_row6_col5\" class=\"data row6 col5\" >-0.304180</td>\n",
       "                        <td id=\"T_9a05e_row6_col6\" class=\"data row6 col6\" >1.000000</td>\n",
       "                        <td id=\"T_9a05e_row6_col7\" class=\"data row6 col7\" >0.003183</td>\n",
       "                        <td id=\"T_9a05e_row6_col8\" class=\"data row6 col8\" >0.009612</td>\n",
       "                        <td id=\"T_9a05e_row6_col9\" class=\"data row6 col9\" >0.014204</td>\n",
       "                        <td id=\"T_9a05e_row6_col10\" class=\"data row6 col10\" >-0.047820</td>\n",
       "            </tr>\n",
       "            <tr>\n",
       "                        <th id=\"T_9a05e_level0_row7\" class=\"row_heading level0 row7\" >HasCrCard</th>\n",
       "                        <td id=\"T_9a05e_row7_col0\" class=\"data row7 col0\" >0.000599</td>\n",
       "                        <td id=\"T_9a05e_row7_col1\" class=\"data row7 col1\" >-0.014025</td>\n",
       "                        <td id=\"T_9a05e_row7_col2\" class=\"data row7 col2\" >-0.005458</td>\n",
       "                        <td id=\"T_9a05e_row7_col3\" class=\"data row7 col3\" >-0.011721</td>\n",
       "                        <td id=\"T_9a05e_row7_col4\" class=\"data row7 col4\" >0.027232</td>\n",
       "                        <td id=\"T_9a05e_row7_col5\" class=\"data row7 col5\" >-0.014858</td>\n",
       "                        <td id=\"T_9a05e_row7_col6\" class=\"data row7 col6\" >0.003183</td>\n",
       "                        <td id=\"T_9a05e_row7_col7\" class=\"data row7 col7\" >1.000000</td>\n",
       "                        <td id=\"T_9a05e_row7_col8\" class=\"data row7 col8\" >-0.011866</td>\n",
       "                        <td id=\"T_9a05e_row7_col9\" class=\"data row7 col9\" >-0.009933</td>\n",
       "                        <td id=\"T_9a05e_row7_col10\" class=\"data row7 col10\" >-0.007138</td>\n",
       "            </tr>\n",
       "            <tr>\n",
       "                        <th id=\"T_9a05e_level0_row8\" class=\"row_heading level0 row8\" >IsActiveMember</th>\n",
       "                        <td id=\"T_9a05e_row8_col0\" class=\"data row8 col0\" >0.012044</td>\n",
       "                        <td id=\"T_9a05e_row8_col1\" class=\"data row8 col1\" >0.001665</td>\n",
       "                        <td id=\"T_9a05e_row8_col2\" class=\"data row8 col2\" >0.025651</td>\n",
       "                        <td id=\"T_9a05e_row8_col3\" class=\"data row8 col3\" >0.085472</td>\n",
       "                        <td id=\"T_9a05e_row8_col4\" class=\"data row8 col4\" >-0.032178</td>\n",
       "                        <td id=\"T_9a05e_row8_col5\" class=\"data row8 col5\" >-0.010084</td>\n",
       "                        <td id=\"T_9a05e_row8_col6\" class=\"data row8 col6\" >0.009612</td>\n",
       "                        <td id=\"T_9a05e_row8_col7\" class=\"data row8 col7\" >-0.011866</td>\n",
       "                        <td id=\"T_9a05e_row8_col8\" class=\"data row8 col8\" >1.000000</td>\n",
       "                        <td id=\"T_9a05e_row8_col9\" class=\"data row8 col9\" >-0.011421</td>\n",
       "                        <td id=\"T_9a05e_row8_col10\" class=\"data row8 col10\" >-0.156128</td>\n",
       "            </tr>\n",
       "            <tr>\n",
       "                        <th id=\"T_9a05e_level0_row9\" class=\"row_heading level0 row9\" >EstimatedSalary</th>\n",
       "                        <td id=\"T_9a05e_row9_col0\" class=\"data row9 col0\" >-0.005988</td>\n",
       "                        <td id=\"T_9a05e_row9_col1\" class=\"data row9 col1\" >0.015271</td>\n",
       "                        <td id=\"T_9a05e_row9_col2\" class=\"data row9 col2\" >-0.001384</td>\n",
       "                        <td id=\"T_9a05e_row9_col3\" class=\"data row9 col3\" >-0.007201</td>\n",
       "                        <td id=\"T_9a05e_row9_col4\" class=\"data row9 col4\" >0.010520</td>\n",
       "                        <td id=\"T_9a05e_row9_col5\" class=\"data row9 col5\" >0.012797</td>\n",
       "                        <td id=\"T_9a05e_row9_col6\" class=\"data row9 col6\" >0.014204</td>\n",
       "                        <td id=\"T_9a05e_row9_col7\" class=\"data row9 col7\" >-0.009933</td>\n",
       "                        <td id=\"T_9a05e_row9_col8\" class=\"data row9 col8\" >-0.011421</td>\n",
       "                        <td id=\"T_9a05e_row9_col9\" class=\"data row9 col9\" >1.000000</td>\n",
       "                        <td id=\"T_9a05e_row9_col10\" class=\"data row9 col10\" >0.012097</td>\n",
       "            </tr>\n",
       "            <tr>\n",
       "                        <th id=\"T_9a05e_level0_row10\" class=\"row_heading level0 row10\" >Exited</th>\n",
       "                        <td id=\"T_9a05e_row10_col0\" class=\"data row10 col0\" >-0.016571</td>\n",
       "                        <td id=\"T_9a05e_row10_col1\" class=\"data row10 col1\" >-0.006248</td>\n",
       "                        <td id=\"T_9a05e_row10_col2\" class=\"data row10 col2\" >-0.027094</td>\n",
       "                        <td id=\"T_9a05e_row10_col3\" class=\"data row10 col3\" >0.285323</td>\n",
       "                        <td id=\"T_9a05e_row10_col4\" class=\"data row10 col4\" >-0.016761</td>\n",
       "                        <td id=\"T_9a05e_row10_col5\" class=\"data row10 col5\" >0.118533</td>\n",
       "                        <td id=\"T_9a05e_row10_col6\" class=\"data row10 col6\" >-0.047820</td>\n",
       "                        <td id=\"T_9a05e_row10_col7\" class=\"data row10 col7\" >-0.007138</td>\n",
       "                        <td id=\"T_9a05e_row10_col8\" class=\"data row10 col8\" >-0.156128</td>\n",
       "                        <td id=\"T_9a05e_row10_col9\" class=\"data row10 col9\" >0.012097</td>\n",
       "                        <td id=\"T_9a05e_row10_col10\" class=\"data row10 col10\" >1.000000</td>\n",
       "            </tr>\n",
       "    </tbody></table>"
      ],
      "text/plain": [
       "<pandas.io.formats.style.Styler at 0x12b157553a0>"
      ]
     },
     "metadata": {},
     "output_type": "display_data"
    }
   ],
   "source": [
    "get_data_info(data)"
   ]
  },
  {
   "cell_type": "markdown",
   "id": "0ddf5923",
   "metadata": {},
   "source": [
    "<h3>Вывод:"
   ]
  },
  {
   "cell_type": "markdown",
   "id": "512ef94c",
   "metadata": {},
   "source": [
    "Из полученных данных следует:\n",
    "\n",
    "- В датасете 10  000 объектов и 14 признаков\n",
    "- Целевой признак - `Exited`. Он имеет всего 2 возможных значения - 0 или 1, поэтому перед нами задача бинарной классификации, которую мы будем решать с помощью метода машинного обучения «Обучение с учителем»\n",
    "- У признака `Tenure` заметны пропущенные значения\n",
    "- В описательной статистике не замечено выбивающихся значений\n",
    "- Признаки между собой не сильно скоррелированы, поэтому проблема мультиколлиниарности отсутствует"
   ]
  },
  {
   "cell_type": "markdown",
   "id": "cf64ea9e",
   "metadata": {},
   "source": [
    "<a id='2'></a>"
   ]
  },
  {
   "cell_type": "markdown",
   "id": "10f8a61c",
   "metadata": {},
   "source": [
    "<h2> Предобработка данных"
   ]
  },
  {
   "cell_type": "markdown",
   "id": "92bce88a",
   "metadata": {},
   "source": [
    "Проведем предобработку данных:\n",
    "\n",
    "- Приведем названия признаков к стилю `snake`\n",
    "- Изучим и заполним пропуски\n",
    "- Рассмотрим датасет на наличие дубликатов\n",
    "- Изучим уникальные значения"
   ]
  },
  {
   "cell_type": "markdown",
   "id": "3f8d2e6d",
   "metadata": {},
   "source": [
    "<h3>Названия столбцов"
   ]
  },
  {
   "cell_type": "code",
   "execution_count": 5,
   "id": "70e49cd6",
   "metadata": {},
   "outputs": [],
   "source": [
    "data.columns = [re.sub(r'(?<!^)(?=[A-Z])', '_', i).lower() for i in data.columns]"
   ]
  },
  {
   "cell_type": "code",
   "execution_count": 6,
   "id": "12170ade",
   "metadata": {},
   "outputs": [
    {
     "data": {
      "text/plain": [
       "Index(['row_number', 'customer_id', 'surname', 'credit_score', 'geography',\n",
       "       'gender', 'age', 'tenure', 'balance', 'num_of_products', 'has_cr_card',\n",
       "       'is_active_member', 'estimated_salary', 'exited'],\n",
       "      dtype='object')"
      ]
     },
     "execution_count": 6,
     "metadata": {},
     "output_type": "execute_result"
    }
   ],
   "source": [
    "data.columns"
   ]
  },
  {
   "cell_type": "markdown",
   "id": "3d0f6d9e",
   "metadata": {},
   "source": [
    "<h3>Пропуски"
   ]
  },
  {
   "cell_type": "markdown",
   "id": "faa6553f",
   "metadata": {},
   "source": [
    "Мы знаем, что у признака `tenure` имеются пропуски. Изучим их процент от всех объектов признака."
   ]
  },
  {
   "cell_type": "code",
   "execution_count": 7,
   "id": "2d03867c",
   "metadata": {},
   "outputs": [
    {
     "name": "stdout",
     "output_type": "stream",
     "text": [
      "Процент пропущенных значений в \"tenure\": 9.09%\n"
     ]
    }
   ],
   "source": [
    "print('Процент пропущенных значений в \"tenure\":', \n",
    "      \"{:.2%}\".format(data['tenure'].isna().mean()))"
   ]
  },
  {
   "cell_type": "markdown",
   "id": "3a88f7c4",
   "metadata": {},
   "source": [
    "Пропусков немного. Возможно они возникли из-за того, что клиент пришел в банк недавно.\n",
    "\n",
    "Есть несколько вариантов для борьбы с ними:\n",
    "\n",
    "1. Удалить пропущенные значения\n",
    "2. Заменить пропущенные значения медианой \n",
    "3. Заменить пропущенные значения минимальным значением\n",
    "\n",
    "В данном случае остановимя на замене пропусков медианным значением."
   ]
  },
  {
   "cell_type": "code",
   "execution_count": 8,
   "id": "96fff5ab",
   "metadata": {},
   "outputs": [],
   "source": [
    "data['tenure'] = data['tenure'].fillna(data['tenure'].median())"
   ]
  },
  {
   "cell_type": "code",
   "execution_count": 9,
   "id": "d8018fd0",
   "metadata": {},
   "outputs": [
    {
     "data": {
      "text/plain": [
       "row_number          0\n",
       "customer_id         0\n",
       "surname             0\n",
       "credit_score        0\n",
       "geography           0\n",
       "gender              0\n",
       "age                 0\n",
       "tenure              0\n",
       "balance             0\n",
       "num_of_products     0\n",
       "has_cr_card         0\n",
       "is_active_member    0\n",
       "estimated_salary    0\n",
       "exited              0\n",
       "dtype: int64"
      ]
     },
     "execution_count": 9,
     "metadata": {},
     "output_type": "execute_result"
    }
   ],
   "source": [
    "data.isna().sum()"
   ]
  },
  {
   "cell_type": "markdown",
   "id": "ef45f2d9",
   "metadata": {},
   "source": [
    "<h3>Дубликаты"
   ]
  },
  {
   "cell_type": "markdown",
   "id": "c94e579b",
   "metadata": {},
   "source": [
    "Проверим датасет на явные дубликаты."
   ]
  },
  {
   "cell_type": "code",
   "execution_count": 10,
   "id": "bdf30e5d",
   "metadata": {
    "scrolled": true
   },
   "outputs": [
    {
     "data": {
      "text/plain": [
       "0"
      ]
     },
     "execution_count": 10,
     "metadata": {},
     "output_type": "execute_result"
    }
   ],
   "source": [
    "data.duplicated().sum()"
   ]
  },
  {
   "cell_type": "markdown",
   "id": "15102581",
   "metadata": {},
   "source": [
    "Проверим датасет на неявные дубликаты."
   ]
  },
  {
   "cell_type": "code",
   "execution_count": 11,
   "id": "f25981ea",
   "metadata": {},
   "outputs": [
    {
     "data": {
      "text/plain": [
       "0"
      ]
     },
     "execution_count": 11,
     "metadata": {},
     "output_type": "execute_result"
    }
   ],
   "source": [
    "data[['customer_id', 'surname','row_number']].duplicated(keep=False).sum()"
   ]
  },
  {
   "cell_type": "markdown",
   "id": "0f40a1e7",
   "metadata": {},
   "source": [
    "Удалим столбцы `row_number`, `customer_id`, `surname`, так как они не имеют информативной ценности для алгоритма."
   ]
  },
  {
   "cell_type": "code",
   "execution_count": 12,
   "id": "e875a9aa",
   "metadata": {},
   "outputs": [],
   "source": [
    "data = data.drop(['row_number', 'customer_id', 'surname'], axis=1);"
   ]
  },
  {
   "cell_type": "code",
   "execution_count": 13,
   "id": "7e35ce18",
   "metadata": {},
   "outputs": [
    {
     "data": {
      "text/plain": [
       "(10000, 11)"
      ]
     },
     "execution_count": 13,
     "metadata": {},
     "output_type": "execute_result"
    }
   ],
   "source": [
    "data.shape"
   ]
  },
  {
   "cell_type": "markdown",
   "id": "d9bb0113",
   "metadata": {},
   "source": [
    "<h3>Уникальные значения"
   ]
  },
  {
   "cell_type": "code",
   "execution_count": 14,
   "id": "b0aaa821",
   "metadata": {},
   "outputs": [
    {
     "data": {
      "text/plain": [
       "array(['France', 'Spain', 'Germany'], dtype=object)"
      ]
     },
     "metadata": {},
     "output_type": "display_data"
    },
    {
     "data": {
      "text/plain": [
       "array(['Female', 'Male'], dtype=object)"
      ]
     },
     "metadata": {},
     "output_type": "display_data"
    }
   ],
   "source": [
    "display(data['geography'].unique(), data['gender'].unique())"
   ]
  },
  {
   "cell_type": "markdown",
   "id": "18d8ff4c",
   "metadata": {},
   "source": [
    "<h3> Вывод"
   ]
  },
  {
   "cell_type": "markdown",
   "id": "535254f1",
   "metadata": {},
   "source": [
    "По итогам предобработки данных, мы:\n",
    "\n",
    "- Привели названия признаков к стилю `snake`\n",
    "- Заменили пропуски в `tenure` на минимальное значение - 0\n",
    "- Не нашли дубликатов\n",
    "- Узнали что признак `geography` принимает 3 значения - `France`, `Spain` и `Germany`; признак `gender` - `Male` и `Female`"
   ]
  },
  {
   "cell_type": "markdown",
   "id": "8c96645d",
   "metadata": {},
   "source": [
    "<a id='3'></a>"
   ]
  },
  {
   "cell_type": "markdown",
   "id": "83324f9b",
   "metadata": {},
   "source": [
    "<h2> Исследование задачи"
   ]
  },
  {
   "cell_type": "markdown",
   "id": "046f1123",
   "metadata": {},
   "source": [
    "Подготовим данные для машинного обучения.\n",
    "\n",
    "- Объявим две переменные:\n",
    "  - сохраним в `features` признаки\n",
    "  - сохраним в `target` целевой признак\n",
    "  \n",
    "- Разделим данные на тренировочную, валидационную и тестовую выборки\n",
    "\n",
    "- Применим One-Hot Encoding к признакам `geography` и `gender`\n",
    "\n",
    "- Масштабируем признаки\n",
    "\n",
    "Обучим модели `Random Forest`, `Decision Tree` и `Logistic Regression` без учета дисбаланса. Изучим их score-значения и построим ROC-кривую."
   ]
  },
  {
   "cell_type": "markdown",
   "id": "4cfe4480",
   "metadata": {},
   "source": [
    "<h3> Подготовка данных"
   ]
  },
  {
   "cell_type": "markdown",
   "id": "fc32ff84",
   "metadata": {},
   "source": [
    "Объявим две переменные:\n",
    "- features\n",
    "- target"
   ]
  },
  {
   "cell_type": "code",
   "execution_count": 15,
   "id": "a5b262f8",
   "metadata": {},
   "outputs": [],
   "source": [
    "features = data.drop('exited', axis=1)\n",
    "target = data['exited']"
   ]
  },
  {
   "cell_type": "markdown",
   "id": "394fbbdb",
   "metadata": {},
   "source": [
    "Взглянем на их размерность."
   ]
  },
  {
   "cell_type": "code",
   "execution_count": 16,
   "id": "fa616f28",
   "metadata": {},
   "outputs": [
    {
     "data": {
      "text/plain": [
       "((10000, 10), (10000,))"
      ]
     },
     "execution_count": 16,
     "metadata": {},
     "output_type": "execute_result"
    }
   ],
   "source": [
    "features.shape, target.shape"
   ]
  },
  {
   "cell_type": "markdown",
   "id": "3657b28f",
   "metadata": {},
   "source": [
    "Разделим данные на обучающую, валидационную и тестовую выборки в соотношении 3:1:1"
   ]
  },
  {
   "cell_type": "code",
   "execution_count": 17,
   "id": "e5898897",
   "metadata": {},
   "outputs": [],
   "source": [
    "# обучающая и (тестовая и валидационная) выборки\n",
    "(features_train, features_test,\n",
    " target_train, target_test) = train_test_split(features, \n",
    "                                               target, \n",
    "                                               test_size = 0.4, \n",
    "                                               random_state=12345)\n",
    "\n",
    "# валидационная и тестовая выборки \n",
    "(features_valid, features_test,\n",
    " target_valid, target_test) = train_test_split(features_test, \n",
    "                                               target_test, \n",
    "                                               test_size = 0.5, \n",
    "                                               random_state=12345)"
   ]
  },
  {
   "cell_type": "markdown",
   "id": "c09fd08d",
   "metadata": {},
   "source": [
    "Проверим их размерность."
   ]
  },
  {
   "cell_type": "code",
   "execution_count": 18,
   "id": "7f49fcc3",
   "metadata": {},
   "outputs": [
    {
     "name": "stdout",
     "output_type": "stream",
     "text": [
      "Train: ((6000, 10), (6000,))\n",
      "Valid: ((2000, 10), (2000,))\n",
      "Test: ((2000, 10), (2000,))\n"
     ]
    }
   ],
   "source": [
    "print(f'Train: {features_train.shape, target_train.shape}')\n",
    "print(f'Valid: {features_valid.shape, target_valid.shape}')\n",
    "print(f'Test: {features_test.shape, target_test.shape}')"
   ]
  },
  {
   "cell_type": "markdown",
   "id": "76dc1a2d",
   "metadata": {},
   "source": [
    "Применим OHE к категориальным признакам."
   ]
  },
  {
   "cell_type": "code",
   "execution_count": 19,
   "id": "207fa328",
   "metadata": {},
   "outputs": [],
   "source": [
    "# выделим категориальные признаки\n",
    "categorial = ['geography', 'gender']"
   ]
  },
  {
   "cell_type": "code",
   "execution_count": 20,
   "id": "56932996",
   "metadata": {},
   "outputs": [
    {
     "data": {
      "text/html": [
       "<style>#sk-container-id-1 {color: black;background-color: white;}#sk-container-id-1 pre{padding: 0;}#sk-container-id-1 div.sk-toggleable {background-color: white;}#sk-container-id-1 label.sk-toggleable__label {cursor: pointer;display: block;width: 100%;margin-bottom: 0;padding: 0.3em;box-sizing: border-box;text-align: center;}#sk-container-id-1 label.sk-toggleable__label-arrow:before {content: \"▸\";float: left;margin-right: 0.25em;color: #696969;}#sk-container-id-1 label.sk-toggleable__label-arrow:hover:before {color: black;}#sk-container-id-1 div.sk-estimator:hover label.sk-toggleable__label-arrow:before {color: black;}#sk-container-id-1 div.sk-toggleable__content {max-height: 0;max-width: 0;overflow: hidden;text-align: left;background-color: #f0f8ff;}#sk-container-id-1 div.sk-toggleable__content pre {margin: 0.2em;color: black;border-radius: 0.25em;background-color: #f0f8ff;}#sk-container-id-1 input.sk-toggleable__control:checked~div.sk-toggleable__content {max-height: 200px;max-width: 100%;overflow: auto;}#sk-container-id-1 input.sk-toggleable__control:checked~label.sk-toggleable__label-arrow:before {content: \"▾\";}#sk-container-id-1 div.sk-estimator input.sk-toggleable__control:checked~label.sk-toggleable__label {background-color: #d4ebff;}#sk-container-id-1 div.sk-label input.sk-toggleable__control:checked~label.sk-toggleable__label {background-color: #d4ebff;}#sk-container-id-1 input.sk-hidden--visually {border: 0;clip: rect(1px 1px 1px 1px);clip: rect(1px, 1px, 1px, 1px);height: 1px;margin: -1px;overflow: hidden;padding: 0;position: absolute;width: 1px;}#sk-container-id-1 div.sk-estimator {font-family: monospace;background-color: #f0f8ff;border: 1px dotted black;border-radius: 0.25em;box-sizing: border-box;margin-bottom: 0.5em;}#sk-container-id-1 div.sk-estimator:hover {background-color: #d4ebff;}#sk-container-id-1 div.sk-parallel-item::after {content: \"\";width: 100%;border-bottom: 1px solid gray;flex-grow: 1;}#sk-container-id-1 div.sk-label:hover label.sk-toggleable__label {background-color: #d4ebff;}#sk-container-id-1 div.sk-serial::before {content: \"\";position: absolute;border-left: 1px solid gray;box-sizing: border-box;top: 0;bottom: 0;left: 50%;z-index: 0;}#sk-container-id-1 div.sk-serial {display: flex;flex-direction: column;align-items: center;background-color: white;padding-right: 0.2em;padding-left: 0.2em;position: relative;}#sk-container-id-1 div.sk-item {position: relative;z-index: 1;}#sk-container-id-1 div.sk-parallel {display: flex;align-items: stretch;justify-content: center;background-color: white;position: relative;}#sk-container-id-1 div.sk-item::before, #sk-container-id-1 div.sk-parallel-item::before {content: \"\";position: absolute;border-left: 1px solid gray;box-sizing: border-box;top: 0;bottom: 0;left: 50%;z-index: -1;}#sk-container-id-1 div.sk-parallel-item {display: flex;flex-direction: column;z-index: 1;position: relative;background-color: white;}#sk-container-id-1 div.sk-parallel-item:first-child::after {align-self: flex-end;width: 50%;}#sk-container-id-1 div.sk-parallel-item:last-child::after {align-self: flex-start;width: 50%;}#sk-container-id-1 div.sk-parallel-item:only-child::after {width: 0;}#sk-container-id-1 div.sk-dashed-wrapped {border: 1px dashed gray;margin: 0 0.4em 0.5em 0.4em;box-sizing: border-box;padding-bottom: 0.4em;background-color: white;}#sk-container-id-1 div.sk-label label {font-family: monospace;font-weight: bold;display: inline-block;line-height: 1.2em;}#sk-container-id-1 div.sk-label-container {text-align: center;}#sk-container-id-1 div.sk-container {/* jupyter's `normalize.less` sets `[hidden] { display: none; }` but bootstrap.min.css set `[hidden] { display: none !important; }` so we also need the `!important` here to be able to override the default hidden behavior on the sphinx rendered scikit-learn.org. See: https://github.com/scikit-learn/scikit-learn/issues/21755 */display: inline-block !important;position: relative;}#sk-container-id-1 div.sk-text-repr-fallback {display: none;}</style><div id=\"sk-container-id-1\" class=\"sk-top-container\"><div class=\"sk-text-repr-fallback\"><pre>OneHotEncoder(drop=&#x27;first&#x27;, handle_unknown=&#x27;ignore&#x27;, sparse=False)</pre><b>In a Jupyter environment, please rerun this cell to show the HTML representation or trust the notebook. <br />On GitHub, the HTML representation is unable to render, please try loading this page with nbviewer.org.</b></div><div class=\"sk-container\" hidden><div class=\"sk-item\"><div class=\"sk-estimator sk-toggleable\"><input class=\"sk-toggleable__control sk-hidden--visually\" id=\"sk-estimator-id-1\" type=\"checkbox\" checked><label for=\"sk-estimator-id-1\" class=\"sk-toggleable__label sk-toggleable__label-arrow\">OneHotEncoder</label><div class=\"sk-toggleable__content\"><pre>OneHotEncoder(drop=&#x27;first&#x27;, handle_unknown=&#x27;ignore&#x27;, sparse=False)</pre></div></div></div></div></div>"
      ],
      "text/plain": [
       "OneHotEncoder(drop='first', handle_unknown='ignore', sparse=False)"
      ]
     },
     "execution_count": 20,
     "metadata": {},
     "output_type": "execute_result"
    }
   ],
   "source": [
    "# обучим модель на тренировочной выборке\n",
    "ohe = OneHotEncoder(drop='first', handle_unknown='ignore', sparse=False)\n",
    "ohe.fit(features_train[categorial])"
   ]
  },
  {
   "cell_type": "code",
   "execution_count": 21,
   "id": "b01361b7",
   "metadata": {},
   "outputs": [],
   "source": [
    "# # энкодером, который обучен на ТРЕНИРОВОЧНОЙ ВЫБОРКЕ, кодируем тренировочную\n",
    "features_train[\n",
    "    ohe.get_feature_names_out()\n",
    "] = ohe.transform(features_train[categorial])\n",
    "\n",
    "# удалим незакодированные категориальные признаки\n",
    "features_train = features_train.drop(categorial, axis=1)"
   ]
  },
  {
   "cell_type": "code",
   "execution_count": 22,
   "id": "a6949ea2",
   "metadata": {},
   "outputs": [],
   "source": [
    "# энкодером, который обучен на ТРЕНИРОВОЧНОЙ ВЫБОРКЕ, кодируем валидационную\n",
    "features_valid[\n",
    "    ohe.get_feature_names_out()\n",
    "] = ohe.transform(features_valid[categorial])\n",
    "\n",
    "# удалим незакодированные категориальные признаки\n",
    "features_valid = features_valid.drop(categorial, axis=1)"
   ]
  },
  {
   "cell_type": "code",
   "execution_count": 23,
   "id": "db7122b1",
   "metadata": {},
   "outputs": [],
   "source": [
    "# энкодером, который обучен на ТРЕНИРОВОЧНОЙ ВЫБОРКЕ, кодируем тестовую\n",
    "features_test[\n",
    "    ohe.get_feature_names_out()\n",
    "] = ohe.transform(features_test[categorial])\n",
    "\n",
    "# удалим незакодированные категориальные признаки\n",
    "features_test = features_test.drop(categorial, axis=1)"
   ]
  },
  {
   "cell_type": "markdown",
   "id": "3d8a1bf8",
   "metadata": {},
   "source": [
    "Выведем на экран получившиеся таблицы."
   ]
  },
  {
   "cell_type": "code",
   "execution_count": 24,
   "id": "b2e167b3",
   "metadata": {},
   "outputs": [
    {
     "data": {
      "text/html": [
       "<div>\n",
       "<style scoped>\n",
       "    .dataframe tbody tr th:only-of-type {\n",
       "        vertical-align: middle;\n",
       "    }\n",
       "\n",
       "    .dataframe tbody tr th {\n",
       "        vertical-align: top;\n",
       "    }\n",
       "\n",
       "    .dataframe thead th {\n",
       "        text-align: right;\n",
       "    }\n",
       "</style>\n",
       "<table border=\"1\" class=\"dataframe\">\n",
       "  <thead>\n",
       "    <tr style=\"text-align: right;\">\n",
       "      <th></th>\n",
       "      <th>credit_score</th>\n",
       "      <th>age</th>\n",
       "      <th>tenure</th>\n",
       "      <th>balance</th>\n",
       "      <th>num_of_products</th>\n",
       "      <th>has_cr_card</th>\n",
       "      <th>is_active_member</th>\n",
       "      <th>estimated_salary</th>\n",
       "      <th>geography_Germany</th>\n",
       "      <th>geography_Spain</th>\n",
       "      <th>gender_Male</th>\n",
       "    </tr>\n",
       "  </thead>\n",
       "  <tbody>\n",
       "    <tr>\n",
       "      <th>7479</th>\n",
       "      <td>567</td>\n",
       "      <td>35</td>\n",
       "      <td>8.0</td>\n",
       "      <td>153137.74</td>\n",
       "      <td>1</td>\n",
       "      <td>1</td>\n",
       "      <td>0</td>\n",
       "      <td>88659.07</td>\n",
       "      <td>0.0</td>\n",
       "      <td>1.0</td>\n",
       "      <td>1.0</td>\n",
       "    </tr>\n",
       "    <tr>\n",
       "      <th>3411</th>\n",
       "      <td>711</td>\n",
       "      <td>37</td>\n",
       "      <td>8.0</td>\n",
       "      <td>113899.92</td>\n",
       "      <td>1</td>\n",
       "      <td>0</td>\n",
       "      <td>0</td>\n",
       "      <td>80215.20</td>\n",
       "      <td>0.0</td>\n",
       "      <td>0.0</td>\n",
       "      <td>0.0</td>\n",
       "    </tr>\n",
       "    <tr>\n",
       "      <th>6027</th>\n",
       "      <td>850</td>\n",
       "      <td>44</td>\n",
       "      <td>3.0</td>\n",
       "      <td>140393.65</td>\n",
       "      <td>2</td>\n",
       "      <td>0</td>\n",
       "      <td>1</td>\n",
       "      <td>186285.52</td>\n",
       "      <td>1.0</td>\n",
       "      <td>0.0</td>\n",
       "      <td>1.0</td>\n",
       "    </tr>\n",
       "    <tr>\n",
       "      <th>1247</th>\n",
       "      <td>512</td>\n",
       "      <td>24</td>\n",
       "      <td>6.0</td>\n",
       "      <td>0.00</td>\n",
       "      <td>2</td>\n",
       "      <td>1</td>\n",
       "      <td>0</td>\n",
       "      <td>37654.31</td>\n",
       "      <td>0.0</td>\n",
       "      <td>0.0</td>\n",
       "      <td>1.0</td>\n",
       "    </tr>\n",
       "    <tr>\n",
       "      <th>3716</th>\n",
       "      <td>665</td>\n",
       "      <td>27</td>\n",
       "      <td>2.0</td>\n",
       "      <td>147435.96</td>\n",
       "      <td>1</td>\n",
       "      <td>0</td>\n",
       "      <td>0</td>\n",
       "      <td>187508.06</td>\n",
       "      <td>1.0</td>\n",
       "      <td>0.0</td>\n",
       "      <td>0.0</td>\n",
       "    </tr>\n",
       "  </tbody>\n",
       "</table>\n",
       "</div>"
      ],
      "text/plain": [
       "      credit_score  age  tenure    balance  num_of_products  has_cr_card  \\\n",
       "7479           567   35     8.0  153137.74                1            1   \n",
       "3411           711   37     8.0  113899.92                1            0   \n",
       "6027           850   44     3.0  140393.65                2            0   \n",
       "1247           512   24     6.0       0.00                2            1   \n",
       "3716           665   27     2.0  147435.96                1            0   \n",
       "\n",
       "      is_active_member  estimated_salary  geography_Germany  geography_Spain  \\\n",
       "7479                 0          88659.07                0.0              1.0   \n",
       "3411                 0          80215.20                0.0              0.0   \n",
       "6027                 1         186285.52                1.0              0.0   \n",
       "1247                 0          37654.31                0.0              0.0   \n",
       "3716                 0         187508.06                1.0              0.0   \n",
       "\n",
       "      gender_Male  \n",
       "7479          1.0  \n",
       "3411          0.0  \n",
       "6027          1.0  \n",
       "1247          1.0  \n",
       "3716          0.0  "
      ]
     },
     "metadata": {},
     "output_type": "display_data"
    },
    {
     "data": {
      "text/html": [
       "<div>\n",
       "<style scoped>\n",
       "    .dataframe tbody tr th:only-of-type {\n",
       "        vertical-align: middle;\n",
       "    }\n",
       "\n",
       "    .dataframe tbody tr th {\n",
       "        vertical-align: top;\n",
       "    }\n",
       "\n",
       "    .dataframe thead th {\n",
       "        text-align: right;\n",
       "    }\n",
       "</style>\n",
       "<table border=\"1\" class=\"dataframe\">\n",
       "  <thead>\n",
       "    <tr style=\"text-align: right;\">\n",
       "      <th></th>\n",
       "      <th>credit_score</th>\n",
       "      <th>age</th>\n",
       "      <th>tenure</th>\n",
       "      <th>balance</th>\n",
       "      <th>num_of_products</th>\n",
       "      <th>has_cr_card</th>\n",
       "      <th>is_active_member</th>\n",
       "      <th>estimated_salary</th>\n",
       "      <th>geography_Germany</th>\n",
       "      <th>geography_Spain</th>\n",
       "      <th>gender_Male</th>\n",
       "    </tr>\n",
       "  </thead>\n",
       "  <tbody>\n",
       "    <tr>\n",
       "      <th>8532</th>\n",
       "      <td>585</td>\n",
       "      <td>35</td>\n",
       "      <td>2.0</td>\n",
       "      <td>0.00</td>\n",
       "      <td>2</td>\n",
       "      <td>1</td>\n",
       "      <td>0</td>\n",
       "      <td>98621.04</td>\n",
       "      <td>0.0</td>\n",
       "      <td>0.0</td>\n",
       "      <td>0.0</td>\n",
       "    </tr>\n",
       "    <tr>\n",
       "      <th>5799</th>\n",
       "      <td>625</td>\n",
       "      <td>45</td>\n",
       "      <td>3.0</td>\n",
       "      <td>0.00</td>\n",
       "      <td>1</td>\n",
       "      <td>1</td>\n",
       "      <td>1</td>\n",
       "      <td>184474.15</td>\n",
       "      <td>0.0</td>\n",
       "      <td>0.0</td>\n",
       "      <td>0.0</td>\n",
       "    </tr>\n",
       "    <tr>\n",
       "      <th>5511</th>\n",
       "      <td>667</td>\n",
       "      <td>32</td>\n",
       "      <td>0.0</td>\n",
       "      <td>103846.65</td>\n",
       "      <td>1</td>\n",
       "      <td>1</td>\n",
       "      <td>0</td>\n",
       "      <td>20560.69</td>\n",
       "      <td>1.0</td>\n",
       "      <td>0.0</td>\n",
       "      <td>1.0</td>\n",
       "    </tr>\n",
       "    <tr>\n",
       "      <th>7365</th>\n",
       "      <td>568</td>\n",
       "      <td>36</td>\n",
       "      <td>10.0</td>\n",
       "      <td>153610.61</td>\n",
       "      <td>1</td>\n",
       "      <td>1</td>\n",
       "      <td>1</td>\n",
       "      <td>54083.80</td>\n",
       "      <td>0.0</td>\n",
       "      <td>1.0</td>\n",
       "      <td>0.0</td>\n",
       "    </tr>\n",
       "    <tr>\n",
       "      <th>7367</th>\n",
       "      <td>606</td>\n",
       "      <td>42</td>\n",
       "      <td>10.0</td>\n",
       "      <td>0.00</td>\n",
       "      <td>2</td>\n",
       "      <td>1</td>\n",
       "      <td>0</td>\n",
       "      <td>177938.52</td>\n",
       "      <td>0.0</td>\n",
       "      <td>1.0</td>\n",
       "      <td>1.0</td>\n",
       "    </tr>\n",
       "  </tbody>\n",
       "</table>\n",
       "</div>"
      ],
      "text/plain": [
       "      credit_score  age  tenure    balance  num_of_products  has_cr_card  \\\n",
       "8532           585   35     2.0       0.00                2            1   \n",
       "5799           625   45     3.0       0.00                1            1   \n",
       "5511           667   32     0.0  103846.65                1            1   \n",
       "7365           568   36    10.0  153610.61                1            1   \n",
       "7367           606   42    10.0       0.00                2            1   \n",
       "\n",
       "      is_active_member  estimated_salary  geography_Germany  geography_Spain  \\\n",
       "8532                 0          98621.04                0.0              0.0   \n",
       "5799                 1         184474.15                0.0              0.0   \n",
       "5511                 0          20560.69                1.0              0.0   \n",
       "7365                 1          54083.80                0.0              1.0   \n",
       "7367                 0         177938.52                0.0              1.0   \n",
       "\n",
       "      gender_Male  \n",
       "8532          0.0  \n",
       "5799          0.0  \n",
       "5511          1.0  \n",
       "7365          0.0  \n",
       "7367          1.0  "
      ]
     },
     "metadata": {},
     "output_type": "display_data"
    },
    {
     "data": {
      "text/html": [
       "<div>\n",
       "<style scoped>\n",
       "    .dataframe tbody tr th:only-of-type {\n",
       "        vertical-align: middle;\n",
       "    }\n",
       "\n",
       "    .dataframe tbody tr th {\n",
       "        vertical-align: top;\n",
       "    }\n",
       "\n",
       "    .dataframe thead th {\n",
       "        text-align: right;\n",
       "    }\n",
       "</style>\n",
       "<table border=\"1\" class=\"dataframe\">\n",
       "  <thead>\n",
       "    <tr style=\"text-align: right;\">\n",
       "      <th></th>\n",
       "      <th>credit_score</th>\n",
       "      <th>age</th>\n",
       "      <th>tenure</th>\n",
       "      <th>balance</th>\n",
       "      <th>num_of_products</th>\n",
       "      <th>has_cr_card</th>\n",
       "      <th>is_active_member</th>\n",
       "      <th>estimated_salary</th>\n",
       "      <th>geography_Germany</th>\n",
       "      <th>geography_Spain</th>\n",
       "      <th>gender_Male</th>\n",
       "    </tr>\n",
       "  </thead>\n",
       "  <tbody>\n",
       "    <tr>\n",
       "      <th>7041</th>\n",
       "      <td>438</td>\n",
       "      <td>38</td>\n",
       "      <td>2.0</td>\n",
       "      <td>0.00</td>\n",
       "      <td>2</td>\n",
       "      <td>1</td>\n",
       "      <td>0</td>\n",
       "      <td>136859.55</td>\n",
       "      <td>0.0</td>\n",
       "      <td>0.0</td>\n",
       "      <td>1.0</td>\n",
       "    </tr>\n",
       "    <tr>\n",
       "      <th>5709</th>\n",
       "      <td>644</td>\n",
       "      <td>39</td>\n",
       "      <td>9.0</td>\n",
       "      <td>0.00</td>\n",
       "      <td>1</td>\n",
       "      <td>1</td>\n",
       "      <td>0</td>\n",
       "      <td>3740.93</td>\n",
       "      <td>0.0</td>\n",
       "      <td>0.0</td>\n",
       "      <td>0.0</td>\n",
       "    </tr>\n",
       "    <tr>\n",
       "      <th>7117</th>\n",
       "      <td>564</td>\n",
       "      <td>31</td>\n",
       "      <td>5.0</td>\n",
       "      <td>121461.87</td>\n",
       "      <td>1</td>\n",
       "      <td>1</td>\n",
       "      <td>1</td>\n",
       "      <td>20432.09</td>\n",
       "      <td>0.0</td>\n",
       "      <td>1.0</td>\n",
       "      <td>1.0</td>\n",
       "    </tr>\n",
       "    <tr>\n",
       "      <th>7775</th>\n",
       "      <td>628</td>\n",
       "      <td>40</td>\n",
       "      <td>10.0</td>\n",
       "      <td>0.00</td>\n",
       "      <td>2</td>\n",
       "      <td>1</td>\n",
       "      <td>0</td>\n",
       "      <td>103832.58</td>\n",
       "      <td>0.0</td>\n",
       "      <td>1.0</td>\n",
       "      <td>1.0</td>\n",
       "    </tr>\n",
       "    <tr>\n",
       "      <th>8735</th>\n",
       "      <td>728</td>\n",
       "      <td>30</td>\n",
       "      <td>10.0</td>\n",
       "      <td>114835.43</td>\n",
       "      <td>1</td>\n",
       "      <td>0</td>\n",
       "      <td>1</td>\n",
       "      <td>37662.49</td>\n",
       "      <td>0.0</td>\n",
       "      <td>0.0</td>\n",
       "      <td>1.0</td>\n",
       "    </tr>\n",
       "  </tbody>\n",
       "</table>\n",
       "</div>"
      ],
      "text/plain": [
       "      credit_score  age  tenure    balance  num_of_products  has_cr_card  \\\n",
       "7041           438   38     2.0       0.00                2            1   \n",
       "5709           644   39     9.0       0.00                1            1   \n",
       "7117           564   31     5.0  121461.87                1            1   \n",
       "7775           628   40    10.0       0.00                2            1   \n",
       "8735           728   30    10.0  114835.43                1            0   \n",
       "\n",
       "      is_active_member  estimated_salary  geography_Germany  geography_Spain  \\\n",
       "7041                 0         136859.55                0.0              0.0   \n",
       "5709                 0           3740.93                0.0              0.0   \n",
       "7117                 1          20432.09                0.0              1.0   \n",
       "7775                 0         103832.58                0.0              1.0   \n",
       "8735                 1          37662.49                0.0              0.0   \n",
       "\n",
       "      gender_Male  \n",
       "7041          1.0  \n",
       "5709          0.0  \n",
       "7117          1.0  \n",
       "7775          1.0  \n",
       "8735          1.0  "
      ]
     },
     "metadata": {},
     "output_type": "display_data"
    }
   ],
   "source": [
    "display(features_train.head())\n",
    "display(features_valid.head())\n",
    "display(features_test.head())"
   ]
  },
  {
   "cell_type": "markdown",
   "id": "e3aaa54e",
   "metadata": {},
   "source": [
    "Стандартизируем признаки `credit_score`, `age`, `tenure`, `balance`, `num_of_products`, `estimated_salary`, так как из-за их разного масштаба алгоритм может решить, что какой-то из них важнее остальных."
   ]
  },
  {
   "cell_type": "code",
   "execution_count": 25,
   "id": "d9cd2e1f",
   "metadata": {},
   "outputs": [],
   "source": [
    "# выделим нужные численные признаки\n",
    "numeric = ['credit_score', 'age', 'tenure', 'balance', 'num_of_products', 'estimated_salary']"
   ]
  },
  {
   "cell_type": "code",
   "execution_count": 26,
   "id": "2b856272",
   "metadata": {},
   "outputs": [
    {
     "data": {
      "text/html": [
       "<style>#sk-container-id-2 {color: black;background-color: white;}#sk-container-id-2 pre{padding: 0;}#sk-container-id-2 div.sk-toggleable {background-color: white;}#sk-container-id-2 label.sk-toggleable__label {cursor: pointer;display: block;width: 100%;margin-bottom: 0;padding: 0.3em;box-sizing: border-box;text-align: center;}#sk-container-id-2 label.sk-toggleable__label-arrow:before {content: \"▸\";float: left;margin-right: 0.25em;color: #696969;}#sk-container-id-2 label.sk-toggleable__label-arrow:hover:before {color: black;}#sk-container-id-2 div.sk-estimator:hover label.sk-toggleable__label-arrow:before {color: black;}#sk-container-id-2 div.sk-toggleable__content {max-height: 0;max-width: 0;overflow: hidden;text-align: left;background-color: #f0f8ff;}#sk-container-id-2 div.sk-toggleable__content pre {margin: 0.2em;color: black;border-radius: 0.25em;background-color: #f0f8ff;}#sk-container-id-2 input.sk-toggleable__control:checked~div.sk-toggleable__content {max-height: 200px;max-width: 100%;overflow: auto;}#sk-container-id-2 input.sk-toggleable__control:checked~label.sk-toggleable__label-arrow:before {content: \"▾\";}#sk-container-id-2 div.sk-estimator input.sk-toggleable__control:checked~label.sk-toggleable__label {background-color: #d4ebff;}#sk-container-id-2 div.sk-label input.sk-toggleable__control:checked~label.sk-toggleable__label {background-color: #d4ebff;}#sk-container-id-2 input.sk-hidden--visually {border: 0;clip: rect(1px 1px 1px 1px);clip: rect(1px, 1px, 1px, 1px);height: 1px;margin: -1px;overflow: hidden;padding: 0;position: absolute;width: 1px;}#sk-container-id-2 div.sk-estimator {font-family: monospace;background-color: #f0f8ff;border: 1px dotted black;border-radius: 0.25em;box-sizing: border-box;margin-bottom: 0.5em;}#sk-container-id-2 div.sk-estimator:hover {background-color: #d4ebff;}#sk-container-id-2 div.sk-parallel-item::after {content: \"\";width: 100%;border-bottom: 1px solid gray;flex-grow: 1;}#sk-container-id-2 div.sk-label:hover label.sk-toggleable__label {background-color: #d4ebff;}#sk-container-id-2 div.sk-serial::before {content: \"\";position: absolute;border-left: 1px solid gray;box-sizing: border-box;top: 0;bottom: 0;left: 50%;z-index: 0;}#sk-container-id-2 div.sk-serial {display: flex;flex-direction: column;align-items: center;background-color: white;padding-right: 0.2em;padding-left: 0.2em;position: relative;}#sk-container-id-2 div.sk-item {position: relative;z-index: 1;}#sk-container-id-2 div.sk-parallel {display: flex;align-items: stretch;justify-content: center;background-color: white;position: relative;}#sk-container-id-2 div.sk-item::before, #sk-container-id-2 div.sk-parallel-item::before {content: \"\";position: absolute;border-left: 1px solid gray;box-sizing: border-box;top: 0;bottom: 0;left: 50%;z-index: -1;}#sk-container-id-2 div.sk-parallel-item {display: flex;flex-direction: column;z-index: 1;position: relative;background-color: white;}#sk-container-id-2 div.sk-parallel-item:first-child::after {align-self: flex-end;width: 50%;}#sk-container-id-2 div.sk-parallel-item:last-child::after {align-self: flex-start;width: 50%;}#sk-container-id-2 div.sk-parallel-item:only-child::after {width: 0;}#sk-container-id-2 div.sk-dashed-wrapped {border: 1px dashed gray;margin: 0 0.4em 0.5em 0.4em;box-sizing: border-box;padding-bottom: 0.4em;background-color: white;}#sk-container-id-2 div.sk-label label {font-family: monospace;font-weight: bold;display: inline-block;line-height: 1.2em;}#sk-container-id-2 div.sk-label-container {text-align: center;}#sk-container-id-2 div.sk-container {/* jupyter's `normalize.less` sets `[hidden] { display: none; }` but bootstrap.min.css set `[hidden] { display: none !important; }` so we also need the `!important` here to be able to override the default hidden behavior on the sphinx rendered scikit-learn.org. See: https://github.com/scikit-learn/scikit-learn/issues/21755 */display: inline-block !important;position: relative;}#sk-container-id-2 div.sk-text-repr-fallback {display: none;}</style><div id=\"sk-container-id-2\" class=\"sk-top-container\"><div class=\"sk-text-repr-fallback\"><pre>StandardScaler()</pre><b>In a Jupyter environment, please rerun this cell to show the HTML representation or trust the notebook. <br />On GitHub, the HTML representation is unable to render, please try loading this page with nbviewer.org.</b></div><div class=\"sk-container\" hidden><div class=\"sk-item\"><div class=\"sk-estimator sk-toggleable\"><input class=\"sk-toggleable__control sk-hidden--visually\" id=\"sk-estimator-id-2\" type=\"checkbox\" checked><label for=\"sk-estimator-id-2\" class=\"sk-toggleable__label sk-toggleable__label-arrow\">StandardScaler</label><div class=\"sk-toggleable__content\"><pre>StandardScaler()</pre></div></div></div></div></div>"
      ],
      "text/plain": [
       "StandardScaler()"
      ]
     },
     "execution_count": 26,
     "metadata": {},
     "output_type": "execute_result"
    }
   ],
   "source": [
    "# обучим модель на тренировочной выборке\n",
    "scaler = StandardScaler()\n",
    "scaler.fit(features_train[numeric])"
   ]
  },
  {
   "cell_type": "code",
   "execution_count": 27,
   "id": "7290a095",
   "metadata": {},
   "outputs": [],
   "source": [
    "# энкодером, который обучен на ТРЕНИРОВОЧНОЙ ВЫБОРКЕ, кодируем все выборки\n",
    "features_train[numeric] = scaler.transform(features_train[numeric])\n",
    "features_valid[numeric] = scaler.transform(features_valid[numeric])\n",
    "features_test[numeric] = scaler.transform(features_test[numeric])"
   ]
  },
  {
   "cell_type": "markdown",
   "id": "8bcdca50",
   "metadata": {},
   "source": [
    "Выведем на экран получившиеся таблицы."
   ]
  },
  {
   "cell_type": "code",
   "execution_count": 28,
   "id": "f0a7ca70",
   "metadata": {},
   "outputs": [
    {
     "data": {
      "text/html": [
       "<div>\n",
       "<style scoped>\n",
       "    .dataframe tbody tr th:only-of-type {\n",
       "        vertical-align: middle;\n",
       "    }\n",
       "\n",
       "    .dataframe tbody tr th {\n",
       "        vertical-align: top;\n",
       "    }\n",
       "\n",
       "    .dataframe thead th {\n",
       "        text-align: right;\n",
       "    }\n",
       "</style>\n",
       "<table border=\"1\" class=\"dataframe\">\n",
       "  <thead>\n",
       "    <tr style=\"text-align: right;\">\n",
       "      <th></th>\n",
       "      <th>credit_score</th>\n",
       "      <th>age</th>\n",
       "      <th>tenure</th>\n",
       "      <th>balance</th>\n",
       "      <th>num_of_products</th>\n",
       "      <th>has_cr_card</th>\n",
       "      <th>is_active_member</th>\n",
       "      <th>estimated_salary</th>\n",
       "      <th>geography_Germany</th>\n",
       "      <th>geography_Spain</th>\n",
       "      <th>gender_Male</th>\n",
       "    </tr>\n",
       "  </thead>\n",
       "  <tbody>\n",
       "    <tr>\n",
       "      <th>7479</th>\n",
       "      <td>-0.886751</td>\n",
       "      <td>-0.373192</td>\n",
       "      <td>1.082277</td>\n",
       "      <td>1.232271</td>\n",
       "      <td>-0.891560</td>\n",
       "      <td>1</td>\n",
       "      <td>0</td>\n",
       "      <td>-0.187705</td>\n",
       "      <td>0.0</td>\n",
       "      <td>1.0</td>\n",
       "      <td>1.0</td>\n",
       "    </tr>\n",
       "    <tr>\n",
       "      <th>3411</th>\n",
       "      <td>0.608663</td>\n",
       "      <td>-0.183385</td>\n",
       "      <td>1.082277</td>\n",
       "      <td>0.600563</td>\n",
       "      <td>-0.891560</td>\n",
       "      <td>0</td>\n",
       "      <td>0</td>\n",
       "      <td>-0.333945</td>\n",
       "      <td>0.0</td>\n",
       "      <td>0.0</td>\n",
       "      <td>0.0</td>\n",
       "    </tr>\n",
       "    <tr>\n",
       "      <th>6027</th>\n",
       "      <td>2.052152</td>\n",
       "      <td>0.480939</td>\n",
       "      <td>-0.737696</td>\n",
       "      <td>1.027098</td>\n",
       "      <td>0.830152</td>\n",
       "      <td>0</td>\n",
       "      <td>1</td>\n",
       "      <td>1.503095</td>\n",
       "      <td>1.0</td>\n",
       "      <td>0.0</td>\n",
       "      <td>1.0</td>\n",
       "    </tr>\n",
       "    <tr>\n",
       "      <th>1247</th>\n",
       "      <td>-1.457915</td>\n",
       "      <td>-1.417129</td>\n",
       "      <td>0.354288</td>\n",
       "      <td>-1.233163</td>\n",
       "      <td>0.830152</td>\n",
       "      <td>1</td>\n",
       "      <td>0</td>\n",
       "      <td>-1.071061</td>\n",
       "      <td>0.0</td>\n",
       "      <td>0.0</td>\n",
       "      <td>1.0</td>\n",
       "    </tr>\n",
       "    <tr>\n",
       "      <th>3716</th>\n",
       "      <td>0.130961</td>\n",
       "      <td>-1.132419</td>\n",
       "      <td>-1.101690</td>\n",
       "      <td>1.140475</td>\n",
       "      <td>-0.891560</td>\n",
       "      <td>0</td>\n",
       "      <td>0</td>\n",
       "      <td>1.524268</td>\n",
       "      <td>1.0</td>\n",
       "      <td>0.0</td>\n",
       "      <td>0.0</td>\n",
       "    </tr>\n",
       "  </tbody>\n",
       "</table>\n",
       "</div>"
      ],
      "text/plain": [
       "      credit_score       age    tenure   balance  num_of_products  \\\n",
       "7479     -0.886751 -0.373192  1.082277  1.232271        -0.891560   \n",
       "3411      0.608663 -0.183385  1.082277  0.600563        -0.891560   \n",
       "6027      2.052152  0.480939 -0.737696  1.027098         0.830152   \n",
       "1247     -1.457915 -1.417129  0.354288 -1.233163         0.830152   \n",
       "3716      0.130961 -1.132419 -1.101690  1.140475        -0.891560   \n",
       "\n",
       "      has_cr_card  is_active_member  estimated_salary  geography_Germany  \\\n",
       "7479            1                 0         -0.187705                0.0   \n",
       "3411            0                 0         -0.333945                0.0   \n",
       "6027            0                 1          1.503095                1.0   \n",
       "1247            1                 0         -1.071061                0.0   \n",
       "3716            0                 0          1.524268                1.0   \n",
       "\n",
       "      geography_Spain  gender_Male  \n",
       "7479              1.0          1.0  \n",
       "3411              0.0          0.0  \n",
       "6027              0.0          1.0  \n",
       "1247              0.0          1.0  \n",
       "3716              0.0          0.0  "
      ]
     },
     "metadata": {},
     "output_type": "display_data"
    },
    {
     "data": {
      "text/html": [
       "<div>\n",
       "<style scoped>\n",
       "    .dataframe tbody tr th:only-of-type {\n",
       "        vertical-align: middle;\n",
       "    }\n",
       "\n",
       "    .dataframe tbody tr th {\n",
       "        vertical-align: top;\n",
       "    }\n",
       "\n",
       "    .dataframe thead th {\n",
       "        text-align: right;\n",
       "    }\n",
       "</style>\n",
       "<table border=\"1\" class=\"dataframe\">\n",
       "  <thead>\n",
       "    <tr style=\"text-align: right;\">\n",
       "      <th></th>\n",
       "      <th>credit_score</th>\n",
       "      <th>age</th>\n",
       "      <th>tenure</th>\n",
       "      <th>balance</th>\n",
       "      <th>num_of_products</th>\n",
       "      <th>has_cr_card</th>\n",
       "      <th>is_active_member</th>\n",
       "      <th>estimated_salary</th>\n",
       "      <th>geography_Germany</th>\n",
       "      <th>geography_Spain</th>\n",
       "      <th>gender_Male</th>\n",
       "    </tr>\n",
       "  </thead>\n",
       "  <tbody>\n",
       "    <tr>\n",
       "      <th>8532</th>\n",
       "      <td>-0.699824</td>\n",
       "      <td>-0.373192</td>\n",
       "      <td>-1.101690</td>\n",
       "      <td>-1.233163</td>\n",
       "      <td>0.830152</td>\n",
       "      <td>1</td>\n",
       "      <td>0</td>\n",
       "      <td>-0.015173</td>\n",
       "      <td>0.0</td>\n",
       "      <td>0.0</td>\n",
       "      <td>0.0</td>\n",
       "    </tr>\n",
       "    <tr>\n",
       "      <th>5799</th>\n",
       "      <td>-0.284431</td>\n",
       "      <td>0.575842</td>\n",
       "      <td>-0.737696</td>\n",
       "      <td>-1.233163</td>\n",
       "      <td>-0.891560</td>\n",
       "      <td>1</td>\n",
       "      <td>1</td>\n",
       "      <td>1.471724</td>\n",
       "      <td>0.0</td>\n",
       "      <td>0.0</td>\n",
       "      <td>0.0</td>\n",
       "    </tr>\n",
       "    <tr>\n",
       "      <th>5511</th>\n",
       "      <td>0.151731</td>\n",
       "      <td>-0.657902</td>\n",
       "      <td>-1.829679</td>\n",
       "      <td>0.438711</td>\n",
       "      <td>-0.891560</td>\n",
       "      <td>1</td>\n",
       "      <td>0</td>\n",
       "      <td>-1.367107</td>\n",
       "      <td>1.0</td>\n",
       "      <td>0.0</td>\n",
       "      <td>1.0</td>\n",
       "    </tr>\n",
       "    <tr>\n",
       "      <th>7365</th>\n",
       "      <td>-0.876366</td>\n",
       "      <td>-0.278288</td>\n",
       "      <td>1.810266</td>\n",
       "      <td>1.239884</td>\n",
       "      <td>-0.891560</td>\n",
       "      <td>1</td>\n",
       "      <td>1</td>\n",
       "      <td>-0.786517</td>\n",
       "      <td>0.0</td>\n",
       "      <td>1.0</td>\n",
       "      <td>0.0</td>\n",
       "    </tr>\n",
       "    <tr>\n",
       "      <th>7367</th>\n",
       "      <td>-0.481743</td>\n",
       "      <td>0.291132</td>\n",
       "      <td>1.810266</td>\n",
       "      <td>-1.233163</td>\n",
       "      <td>0.830152</td>\n",
       "      <td>1</td>\n",
       "      <td>0</td>\n",
       "      <td>1.358533</td>\n",
       "      <td>0.0</td>\n",
       "      <td>1.0</td>\n",
       "      <td>1.0</td>\n",
       "    </tr>\n",
       "  </tbody>\n",
       "</table>\n",
       "</div>"
      ],
      "text/plain": [
       "      credit_score       age    tenure   balance  num_of_products  \\\n",
       "8532     -0.699824 -0.373192 -1.101690 -1.233163         0.830152   \n",
       "5799     -0.284431  0.575842 -0.737696 -1.233163        -0.891560   \n",
       "5511      0.151731 -0.657902 -1.829679  0.438711        -0.891560   \n",
       "7365     -0.876366 -0.278288  1.810266  1.239884        -0.891560   \n",
       "7367     -0.481743  0.291132  1.810266 -1.233163         0.830152   \n",
       "\n",
       "      has_cr_card  is_active_member  estimated_salary  geography_Germany  \\\n",
       "8532            1                 0         -0.015173                0.0   \n",
       "5799            1                 1          1.471724                0.0   \n",
       "5511            1                 0         -1.367107                1.0   \n",
       "7365            1                 1         -0.786517                0.0   \n",
       "7367            1                 0          1.358533                0.0   \n",
       "\n",
       "      geography_Spain  gender_Male  \n",
       "8532              0.0          0.0  \n",
       "5799              0.0          0.0  \n",
       "5511              0.0          1.0  \n",
       "7365              1.0          0.0  \n",
       "7367              1.0          1.0  "
      ]
     },
     "metadata": {},
     "output_type": "display_data"
    },
    {
     "data": {
      "text/html": [
       "<div>\n",
       "<style scoped>\n",
       "    .dataframe tbody tr th:only-of-type {\n",
       "        vertical-align: middle;\n",
       "    }\n",
       "\n",
       "    .dataframe tbody tr th {\n",
       "        vertical-align: top;\n",
       "    }\n",
       "\n",
       "    .dataframe thead th {\n",
       "        text-align: right;\n",
       "    }\n",
       "</style>\n",
       "<table border=\"1\" class=\"dataframe\">\n",
       "  <thead>\n",
       "    <tr style=\"text-align: right;\">\n",
       "      <th></th>\n",
       "      <th>credit_score</th>\n",
       "      <th>age</th>\n",
       "      <th>tenure</th>\n",
       "      <th>balance</th>\n",
       "      <th>num_of_products</th>\n",
       "      <th>has_cr_card</th>\n",
       "      <th>is_active_member</th>\n",
       "      <th>estimated_salary</th>\n",
       "      <th>geography_Germany</th>\n",
       "      <th>geography_Spain</th>\n",
       "      <th>gender_Male</th>\n",
       "    </tr>\n",
       "  </thead>\n",
       "  <tbody>\n",
       "    <tr>\n",
       "      <th>7041</th>\n",
       "      <td>-2.226392</td>\n",
       "      <td>-0.088482</td>\n",
       "      <td>-1.101690</td>\n",
       "      <td>-1.233163</td>\n",
       "      <td>0.830152</td>\n",
       "      <td>1</td>\n",
       "      <td>0</td>\n",
       "      <td>0.647083</td>\n",
       "      <td>0.0</td>\n",
       "      <td>0.0</td>\n",
       "      <td>1.0</td>\n",
       "    </tr>\n",
       "    <tr>\n",
       "      <th>5709</th>\n",
       "      <td>-0.087120</td>\n",
       "      <td>0.006422</td>\n",
       "      <td>1.446272</td>\n",
       "      <td>-1.233163</td>\n",
       "      <td>-0.891560</td>\n",
       "      <td>1</td>\n",
       "      <td>0</td>\n",
       "      <td>-1.658410</td>\n",
       "      <td>0.0</td>\n",
       "      <td>0.0</td>\n",
       "      <td>0.0</td>\n",
       "    </tr>\n",
       "    <tr>\n",
       "      <th>7117</th>\n",
       "      <td>-0.917905</td>\n",
       "      <td>-0.752805</td>\n",
       "      <td>-0.009707</td>\n",
       "      <td>0.722307</td>\n",
       "      <td>-0.891560</td>\n",
       "      <td>1</td>\n",
       "      <td>1</td>\n",
       "      <td>-1.369334</td>\n",
       "      <td>0.0</td>\n",
       "      <td>1.0</td>\n",
       "      <td>1.0</td>\n",
       "    </tr>\n",
       "    <tr>\n",
       "      <th>7775</th>\n",
       "      <td>-0.253277</td>\n",
       "      <td>0.101325</td>\n",
       "      <td>1.810266</td>\n",
       "      <td>-1.233163</td>\n",
       "      <td>0.830152</td>\n",
       "      <td>1</td>\n",
       "      <td>0</td>\n",
       "      <td>0.075086</td>\n",
       "      <td>0.0</td>\n",
       "      <td>1.0</td>\n",
       "      <td>1.0</td>\n",
       "    </tr>\n",
       "    <tr>\n",
       "      <th>8735</th>\n",
       "      <td>0.785204</td>\n",
       "      <td>-0.847708</td>\n",
       "      <td>1.810266</td>\n",
       "      <td>0.615625</td>\n",
       "      <td>-0.891560</td>\n",
       "      <td>0</td>\n",
       "      <td>1</td>\n",
       "      <td>-1.070919</td>\n",
       "      <td>0.0</td>\n",
       "      <td>0.0</td>\n",
       "      <td>1.0</td>\n",
       "    </tr>\n",
       "  </tbody>\n",
       "</table>\n",
       "</div>"
      ],
      "text/plain": [
       "      credit_score       age    tenure   balance  num_of_products  \\\n",
       "7041     -2.226392 -0.088482 -1.101690 -1.233163         0.830152   \n",
       "5709     -0.087120  0.006422  1.446272 -1.233163        -0.891560   \n",
       "7117     -0.917905 -0.752805 -0.009707  0.722307        -0.891560   \n",
       "7775     -0.253277  0.101325  1.810266 -1.233163         0.830152   \n",
       "8735      0.785204 -0.847708  1.810266  0.615625        -0.891560   \n",
       "\n",
       "      has_cr_card  is_active_member  estimated_salary  geography_Germany  \\\n",
       "7041            1                 0          0.647083                0.0   \n",
       "5709            1                 0         -1.658410                0.0   \n",
       "7117            1                 1         -1.369334                0.0   \n",
       "7775            1                 0          0.075086                0.0   \n",
       "8735            0                 1         -1.070919                0.0   \n",
       "\n",
       "      geography_Spain  gender_Male  \n",
       "7041              0.0          1.0  \n",
       "5709              0.0          0.0  \n",
       "7117              1.0          1.0  \n",
       "7775              1.0          1.0  \n",
       "8735              0.0          1.0  "
      ]
     },
     "metadata": {},
     "output_type": "display_data"
    }
   ],
   "source": [
    "display(features_train.head())\n",
    "display(features_valid.head())\n",
    "display(features_test.head())"
   ]
  },
  {
   "cell_type": "markdown",
   "id": "05bbf8e4",
   "metadata": {},
   "source": [
    "<h3> Модели без учёта дисбаланса"
   ]
  },
  {
   "cell_type": "markdown",
   "id": "c4ec2e30",
   "metadata": {},
   "source": [
    "Взглянем на соотношение объектов целевого признака."
   ]
  },
  {
   "cell_type": "code",
   "execution_count": 29,
   "id": "7f84e5b5",
   "metadata": {},
   "outputs": [
    {
     "data": {
      "text/plain": [
       "0    7963\n",
       "1    2037\n",
       "Name: exited, dtype: int64"
      ]
     },
     "execution_count": 29,
     "metadata": {},
     "output_type": "execute_result"
    },
    {
     "data": {
      "image/png": "[encoded data removed]",
      "text/plain": [
       "<Figure size 640x480 with 1 Axes>"
      ]
     },
     "metadata": {},
     "output_type": "display_data"
    }
   ],
   "source": [
    "data['exited'].value_counts(normalize=1).plot(kind='bar', color='#ab4e52', rot=0)\n",
    "plt.title('Баланс классов')\n",
    "data['exited'].value_counts()"
   ]
  },
  {
   "cell_type": "markdown",
   "id": "812abdd6",
   "metadata": {},
   "source": [
    "Заметен явный перевес объектов, означающих уход клиента. Позитивных значений меньше примерно в 4 раза.\n",
    "\n",
    "Пока что рассмотрим несколько моделей обучения без учёта дисбаланса — `Decision Tree`, `Random Forest` и `Logistic Regression`. Исследуем их качества. Для подбора гиперпараметров используем циклы. Посмотрим, сколько времени на обучение занимает каждая модель."
   ]
  },
  {
   "cell_type": "code",
   "execution_count": 30,
   "id": "c565cfee",
   "metadata": {},
   "outputs": [],
   "source": [
    "# функция подбора гиперпараметров\n",
    "def model_params(model, def_features, def_target, weight):\n",
    "    if model == RandomForestClassifier:\n",
    "        rf_f1_score = 0\n",
    "        rf_depth = 0\n",
    "        rf_est = 0\n",
    "        for est in range(10, 101, 10):     \n",
    "            for depth in range(1, 15):         \n",
    "                model = RandomForestClassifier(\n",
    "                    random_state=12345, \n",
    "                    n_estimators=est, \n",
    "                    max_depth=depth,\n",
    "                    class_weight=weight\n",
    "                )\n",
    "                model.fit(def_features, def_target)\n",
    "                preds = model.predict(features_valid)\n",
    "                f1 = f1_score(target_valid, preds)\n",
    "                if rf_f1_score < f1:\n",
    "                    rf_f1_score = f1\n",
    "                    rf_depth = depth\n",
    "                    rf_est = est\n",
    "        return print(\n",
    "            f'Оптимальная глубина дерева: {rf_depth}\\\n",
    "            \\nОптимальное число деревьев: {rf_est}\\\n",
    "            \\nF1 score: {rf_f1_score}'\n",
    "        )\n",
    "\n",
    "    elif model == DecisionTreeClassifier:\n",
    "        dt_f1_score = 0\n",
    "        dt_depth = 0\n",
    "        for depth in range(1,15):\n",
    "            model = DecisionTreeClassifier(\n",
    "                random_state=12345, \n",
    "                max_depth=depth,\n",
    "                class_weight=weight\n",
    "            )\n",
    "            model.fit(def_features, def_target)\n",
    "            preds = model.predict(features_valid)\n",
    "            f1 = f1_score(target_valid, preds)\n",
    "            if dt_f1_score < f1:\n",
    "                dt_f1_score = f1\n",
    "                dt_depth = depth\n",
    "        return print(\n",
    "            f'Оптимальная глубина дерева: {dt_depth}\\nF1 score: {dt_f1_score}'\n",
    "        )"
   ]
  },
  {
   "cell_type": "code",
   "execution_count": 31,
   "id": "31383620",
   "metadata": {},
   "outputs": [],
   "source": [
    "# функция вывода score-значений\n",
    "def print_result(preds):\n",
    "    print('Accuracy:', accuracy_score(target_valid, preds),\n",
    "          '\\nF1 score:', f1_score(target_valid, preds),\n",
    "          '\\nRecall score:', recall_score(target_valid, preds),\n",
    "          '\\nPrecision score:', precision_score(target_valid, preds))"
   ]
  },
  {
   "cell_type": "code",
   "execution_count": 32,
   "id": "e4e923c7",
   "metadata": {},
   "outputs": [],
   "source": [
    "# функция для графика roc_curve и roc_auc_score\n",
    "def roc_plot(rf, dt, lr):\n",
    "    \n",
    "    rf_prob = rf.predict_proba(features_valid)\n",
    "    rf_prob = rf_prob[:, 1]\n",
    "\n",
    "    dt_prob = dt.predict_proba(features_valid)\n",
    "    dt_prob = dt_prob[:, 1]\n",
    "\n",
    "    lr_prob = lr.predict_proba(features_valid)\n",
    "    lr_prob = lr_prob[:, 1]\n",
    "    \n",
    "    print('Random Forest ROC-AUC score:', roc_auc_score(target_valid, rf_prob))\n",
    "    print('Decision Tree ROC-AUC score:', roc_auc_score(target_valid, dt_prob))\n",
    "    print('Logistic Regression ROC-AUC score:', roc_auc_score(target_valid, lr_prob))\n",
    "\n",
    "    rf_fpr, rf_tpr, thresholds = roc_curve(target_valid, rf_prob)\n",
    "    dt_fpr, dt_tpr, thresholds = roc_curve(target_valid, dt_prob)\n",
    "    lr_fpr, lr_tpr, thresholds = roc_curve(target_valid, lr_prob)\n",
    "\n",
    "    plt.figure()\n",
    "    plt.xlim([0.0, 1.0])\n",
    "    plt.ylim([0.0, 1.0])\n",
    "    plt.plot(rf_fpr, rf_tpr, color='#ac2359')\n",
    "    plt.plot(dt_fpr, dt_tpr, color='#2896ff')\n",
    "    plt.plot(lr_fpr, lr_tpr, color='#95a532')\n",
    "    plt.xlabel('False Positive Rate')\n",
    "    plt.ylabel('True Positive Rate')\n",
    "    plt.title('ROC curve')\n",
    "    plt.legend(('Random Forest','Decision Tree','Logistic Regression'),\n",
    "               loc='upper left') \n",
    "\n",
    "    plt.plot([0, 1], [0, 1], linestyle='--', color='#382f61')\n",
    "    plt.show()"
   ]
  },
  {
   "cell_type": "markdown",
   "id": "85b87c43",
   "metadata": {},
   "source": [
    "<h4>Random forest"
   ]
  },
  {
   "cell_type": "code",
   "execution_count": 33,
   "id": "e13d991a",
   "metadata": {},
   "outputs": [
    {
     "name": "stdout",
     "output_type": "stream",
     "text": [
      "Оптимальная глубина дерева: 12            \n",
      "Оптимальное число деревьев: 90            \n",
      "F1 score: 0.5896656534954408\n"
     ]
    }
   ],
   "source": [
    "model_params(RandomForestClassifier, features_train, target_train, None)"
   ]
  },
  {
   "cell_type": "code",
   "execution_count": 34,
   "id": "ecc906f8",
   "metadata": {},
   "outputs": [
    {
     "name": "stdout",
     "output_type": "stream",
     "text": [
      "CPU times: total: 375 ms\n",
      "Wall time: 422 ms\n"
     ]
    }
   ],
   "source": [
    "%%time\n",
    "\n",
    "rf_model = RandomForestClassifier(random_state=12345, \n",
    "                                  max_depth=12, \n",
    "                                  n_estimators=90)\n",
    "rf_model.fit(features_train, target_train)\n",
    "rf_preds = rf_model.predict(features_valid)"
   ]
  },
  {
   "cell_type": "code",
   "execution_count": 35,
   "id": "400f57cb",
   "metadata": {},
   "outputs": [
    {
     "name": "stdout",
     "output_type": "stream",
     "text": [
      "Accuracy: 0.865 \n",
      "F1 score: 0.5896656534954408 \n",
      "Recall score: 0.46411483253588515 \n",
      "Precision score: 0.8083333333333333\n"
     ]
    }
   ],
   "source": [
    "print_result(rf_preds)"
   ]
  },
  {
   "cell_type": "markdown",
   "id": "c37c91ec",
   "metadata": {},
   "source": [
    "<h4>Decision tree"
   ]
  },
  {
   "cell_type": "code",
   "execution_count": 36,
   "id": "21cc0b47",
   "metadata": {},
   "outputs": [
    {
     "name": "stdout",
     "output_type": "stream",
     "text": [
      "Оптимальная глубина дерева: 6\n",
      "F1 score: 0.5696969696969697\n"
     ]
    }
   ],
   "source": [
    "model_params(DecisionTreeClassifier, features_train, target_train, None)"
   ]
  },
  {
   "cell_type": "code",
   "execution_count": 37,
   "id": "d846e6fa",
   "metadata": {},
   "outputs": [
    {
     "name": "stdout",
     "output_type": "stream",
     "text": [
      "CPU times: total: 0 ns\n",
      "Wall time: 12.1 ms\n"
     ]
    }
   ],
   "source": [
    "%%time\n",
    "\n",
    "dt_model = DecisionTreeClassifier(random_state=12345, max_depth=6)\n",
    "dt_model.fit(features_train, target_train)\n",
    "dt_preds = dt_model.predict(features_valid)"
   ]
  },
  {
   "cell_type": "code",
   "execution_count": 38,
   "id": "d9baec54",
   "metadata": {},
   "outputs": [
    {
     "name": "stdout",
     "output_type": "stream",
     "text": [
      "Accuracy: 0.858 \n",
      "F1 score: 0.5696969696969697 \n",
      "Recall score: 0.44976076555023925 \n",
      "Precision score: 0.7768595041322314\n"
     ]
    }
   ],
   "source": [
    "print_result(dt_preds)"
   ]
  },
  {
   "cell_type": "markdown",
   "id": "08bc4e66",
   "metadata": {},
   "source": [
    "<h4>Logistic Regression"
   ]
  },
  {
   "cell_type": "code",
   "execution_count": 39,
   "id": "6060034b",
   "metadata": {},
   "outputs": [
    {
     "name": "stdout",
     "output_type": "stream",
     "text": [
      "CPU times: total: 0 ns\n",
      "Wall time: 13.4 ms\n"
     ]
    }
   ],
   "source": [
    "%%time\n",
    "\n",
    "lr_model = LogisticRegression(random_state=12345, solver='liblinear')\n",
    "lr_model.fit(features_train, target_train)\n",
    "lr_preds = lr_model.predict(features_valid)"
   ]
  },
  {
   "cell_type": "code",
   "execution_count": 40,
   "id": "62db6212",
   "metadata": {},
   "outputs": [
    {
     "name": "stdout",
     "output_type": "stream",
     "text": [
      "Accuracy: 0.802 \n",
      "F1 score: 0.33108108108108103 \n",
      "Recall score: 0.23444976076555024 \n",
      "Precision score: 0.5632183908045977\n"
     ]
    }
   ],
   "source": [
    "print_result(lr_preds)"
   ]
  },
  {
   "cell_type": "markdown",
   "id": "1916d2f3",
   "metadata": {},
   "source": [
    "<h4> Roc curve"
   ]
  },
  {
   "cell_type": "code",
   "execution_count": 41,
   "id": "7ab672ef",
   "metadata": {},
   "outputs": [
    {
     "name": "stdout",
     "output_type": "stream",
     "text": [
      "Random Forest ROC-AUC score: 0.8483976433440803\n",
      "Decision Tree ROC-AUC score: 0.8164631712023421\n",
      "Logistic Regression ROC-AUC score: 0.7587512627102753\n"
     ]
    },
    {
     "data": {
      "image/png": "[encoded data removed]",
      "text/plain": [
       "<Figure size 640x480 with 1 Axes>"
      ]
     },
     "metadata": {},
     "output_type": "display_data"
    }
   ],
   "source": [
    "roc_plot(rf_model, dt_model, lr_model)"
   ]
  },
  {
   "cell_type": "markdown",
   "id": "bc7c04a8",
   "metadata": {},
   "source": [
    " <h3> Вывод"
   ]
  },
  {
   "cell_type": "markdown",
   "id": "2a08b5b7",
   "metadata": {},
   "source": [
    "- Мы применили OHE и масштабирование и подготовили данные для моделей\n",
    "- Была выявлена проблема дисбаланса данных\n",
    "- Самая быстрая скорость обучения оказалась у `Logistic Regression`, самая медленная - у `Random Forest`\n",
    "- Лучше всего себя показывает модель `Random Forest`, выдавая значение `F1 score: 0.5896656534954408` с гиперпараметрами:\n",
    "  - `max_depth=12`\n",
    "  - `n_estimators=90`"
   ]
  },
  {
   "cell_type": "markdown",
   "id": "753bc4a4",
   "metadata": {},
   "source": [
    "<a id='4'></a>"
   ]
  },
  {
   "cell_type": "markdown",
   "id": "c8349f2b",
   "metadata": {},
   "source": [
    "<h2> Борьба с дисбалансом"
   ]
  },
  {
   "cell_type": "markdown",
   "id": "ccd35de7",
   "metadata": {},
   "source": [
    "Улучшим качество моделей, учитывая дисбаланс классов. \n",
    "\n",
    "Для этого:\n",
    "- Построим матрицу ошибок для каждой модели\n",
    "- Применим к каждой модели 3 способа борьбы с дисбалансом:\n",
    "  - Увеличение выборки\n",
    "  - Уменьшение выборки\n",
    "  - Взвешивание классов\n",
    "- Изучим их score-значения и построим ROC-кривую."
   ]
  },
  {
   "cell_type": "markdown",
   "id": "792290ab",
   "metadata": {},
   "source": [
    "<h3>Confusion Matrix"
   ]
  },
  {
   "cell_type": "markdown",
   "id": "25b1c79c",
   "metadata": {},
   "source": [
    "Построим Confusion Matrix, чтобы детально рассмотреть где модели совершают ошибки."
   ]
  },
  {
   "cell_type": "code",
   "execution_count": 42,
   "id": "26fd2f5a",
   "metadata": {},
   "outputs": [
    {
     "data": {
      "image/png": "[encoded data removed]",
      "text/plain": [
       "<Figure size 640x480 with 2 Axes>"
      ]
     },
     "metadata": {},
     "output_type": "display_data"
    },
    {
     "data": {
      "image/png": "[encoded data removed]",
      "text/plain": [
       "<Figure size 640x480 with 2 Axes>"
      ]
     },
     "metadata": {},
     "output_type": "display_data"
    },
    {
     "data": {
      "image/png": "[encoded data removed]",
      "text/plain": [
       "<Figure size 640x480 with 2 Axes>"
      ]
     },
     "metadata": {},
     "output_type": "display_data"
    }
   ],
   "source": [
    "all_models = rf_model, dt_model, lr_model\n",
    "\n",
    "for model in all_models:\n",
    "    fig, ax = plt.subplots()\n",
    "    plot_confusion_matrix(model, features_valid, target_valid, \n",
    "                          normalize='true', cmap='BuPu', ax=ax)\n",
    "    ax.title.set_text(type(model).__name__)\n",
    "    plt.grid()\n",
    "    plt.tight_layout() \n",
    "    plt.show()"
   ]
  },
  {
   "cell_type": "markdown",
   "id": "e482b902",
   "metadata": {},
   "source": [
    "Все модели довольно хорошо справляются с предсказыванием TN(true negative) значений, однако качество предсказаний довольно сильно проседает на TP(true positive) - модели чаще выдают негативные значения, когда те на самом деле позитивные."
   ]
  },
  {
   "cell_type": "markdown",
   "id": "27820c93",
   "metadata": {},
   "source": [
    "<h3> Увеличение выборки"
   ]
  },
  {
   "cell_type": "markdown",
   "id": "ba2996ac",
   "metadata": {},
   "source": [
    "Напишем функцию и применим её для увеличения тренировочной выборки. Обучим на ней модели и посмотрим на значения F1 score и AUC_ROC."
   ]
  },
  {
   "cell_type": "code",
   "execution_count": 43,
   "id": "c227d2a5",
   "metadata": {},
   "outputs": [],
   "source": [
    "# функция увеличения выборки\n",
    "oversample = SMOTE(random_state=12345)\n",
    "features_upsampled, target_upsampled = oversample.fit_resample(\n",
    "    features_train, target_train\n",
    ")"
   ]
  },
  {
   "cell_type": "markdown",
   "id": "d4527f6b",
   "metadata": {},
   "source": [
    "Проверим размерность изначальной тренировочной выборки и полученной в ходе апсемплинга."
   ]
  },
  {
   "cell_type": "code",
   "execution_count": 44,
   "id": "109d3a16",
   "metadata": {},
   "outputs": [
    {
     "name": "stdout",
     "output_type": "stream",
     "text": [
      "Изначальная выборка (6000, 11) (6000,)\n",
      "Апсемплированная выборка (9608, 11) (9608,)\n"
     ]
    }
   ],
   "source": [
    "print('Изначальная выборка', features_train.shape, target_train.shape)\n",
    "print('Апсемплированная выборка', features_upsampled.shape, target_upsampled.shape)"
   ]
  },
  {
   "cell_type": "markdown",
   "id": "09aac717",
   "metadata": {},
   "source": [
    "Посмотрим на баланс классов."
   ]
  },
  {
   "cell_type": "code",
   "execution_count": 45,
   "id": "895b50a2",
   "metadata": {},
   "outputs": [
    {
     "data": {
      "text/plain": [
       "0    4804\n",
       "1    4804\n",
       "Name: exited, dtype: int64"
      ]
     },
     "execution_count": 45,
     "metadata": {},
     "output_type": "execute_result"
    },
    {
     "data": {
      "image/png": "[encoded data removed]",
      "text/plain": [
       "<Figure size 640x480 with 1 Axes>"
      ]
     },
     "metadata": {},
     "output_type": "display_data"
    }
   ],
   "source": [
    "target_upsampled.value_counts(normalize=1).plot(kind='bar', color='#ab4e52', rot=0)\n",
    "plt.title('Баланс классов увеличенной выборки')\n",
    "target_upsampled.value_counts()"
   ]
  },
  {
   "cell_type": "markdown",
   "id": "35c34fbf",
   "metadata": {},
   "source": [
    "<h4> Random forest"
   ]
  },
  {
   "cell_type": "code",
   "execution_count": 46,
   "id": "745c310d",
   "metadata": {
    "scrolled": true
   },
   "outputs": [
    {
     "name": "stdout",
     "output_type": "stream",
     "text": [
      "Оптимальная глубина дерева: 7            \n",
      "Оптимальное число деревьев: 80            \n",
      "F1 score: 0.6134453781512605\n"
     ]
    }
   ],
   "source": [
    "model_params(RandomForestClassifier, features_upsampled, target_upsampled, None)"
   ]
  },
  {
   "cell_type": "code",
   "execution_count": 47,
   "id": "016ee8bf",
   "metadata": {},
   "outputs": [
    {
     "name": "stdout",
     "output_type": "stream",
     "text": [
      "CPU times: total: 312 ms\n",
      "Wall time: 455 ms\n"
     ]
    }
   ],
   "source": [
    "%%time\n",
    "\n",
    "rf_model_up = RandomForestClassifier(random_state=12345, max_depth=7, n_estimators=80)\n",
    "rf_model_up.fit(features_upsampled, target_upsampled)\n",
    "rf_preds = rf_model_up.predict(features_valid)"
   ]
  },
  {
   "cell_type": "code",
   "execution_count": 48,
   "id": "b2a36a5e",
   "metadata": {},
   "outputs": [
    {
     "name": "stdout",
     "output_type": "stream",
     "text": [
      "Accuracy: 0.816 \n",
      "F1 score: 0.6134453781512605 \n",
      "Recall score: 0.6985645933014354 \n",
      "Precision score: 0.5468164794007491\n"
     ]
    }
   ],
   "source": [
    "print_result(rf_preds)"
   ]
  },
  {
   "cell_type": "markdown",
   "id": "3d733115",
   "metadata": {},
   "source": [
    "<h4> Decision Tree"
   ]
  },
  {
   "cell_type": "code",
   "execution_count": 49,
   "id": "e87517c8",
   "metadata": {},
   "outputs": [
    {
     "name": "stdout",
     "output_type": "stream",
     "text": [
      "Оптимальная глубина дерева: 5\n",
      "F1 score: 0.5748116254036598\n"
     ]
    }
   ],
   "source": [
    "model_params(DecisionTreeClassifier, features_upsampled, target_upsampled, None)"
   ]
  },
  {
   "cell_type": "code",
   "execution_count": 50,
   "id": "db5b1699",
   "metadata": {},
   "outputs": [
    {
     "name": "stdout",
     "output_type": "stream",
     "text": [
      "CPU times: total: 31.2 ms\n",
      "Wall time: 17.6 ms\n"
     ]
    }
   ],
   "source": [
    "%%time\n",
    "\n",
    "dt_model_up = DecisionTreeClassifier(random_state=12345, max_depth=5)\n",
    "dt_model_up.fit(features_upsampled, target_upsampled)\n",
    "df_preds = dt_model_up.predict(features_valid)"
   ]
  },
  {
   "cell_type": "code",
   "execution_count": 51,
   "id": "9fdeede6",
   "metadata": {},
   "outputs": [
    {
     "name": "stdout",
     "output_type": "stream",
     "text": [
      "Accuracy: 0.858 \n",
      "F1 score: 0.5696969696969697 \n",
      "Recall score: 0.44976076555023925 \n",
      "Precision score: 0.7768595041322314\n"
     ]
    }
   ],
   "source": [
    "print_result(dt_preds)"
   ]
  },
  {
   "cell_type": "markdown",
   "id": "05dfbd90",
   "metadata": {},
   "source": [
    "<h4> Logistic regression"
   ]
  },
  {
   "cell_type": "code",
   "execution_count": 52,
   "id": "69c32044",
   "metadata": {},
   "outputs": [
    {
     "name": "stdout",
     "output_type": "stream",
     "text": [
      "CPU times: total: 0 ns\n",
      "Wall time: 12 ms\n"
     ]
    }
   ],
   "source": [
    "%%time\n",
    "\n",
    "lr_model_up = LogisticRegression(random_state=12345, solver='liblinear')\n",
    "lr_model_up.fit(features_upsampled, target_upsampled)\n",
    "lr_preds = lr_model_up.predict(features_valid)"
   ]
  },
  {
   "cell_type": "code",
   "execution_count": 53,
   "id": "6d855140",
   "metadata": {},
   "outputs": [
    {
     "name": "stdout",
     "output_type": "stream",
     "text": [
      "Accuracy: 0.7005 \n",
      "F1 score: 0.48138528138528136 \n",
      "Recall score: 0.6650717703349283 \n",
      "Precision score: 0.37720488466757124\n"
     ]
    }
   ],
   "source": [
    "print_result(lr_preds)"
   ]
  },
  {
   "cell_type": "markdown",
   "id": "f20b63e7",
   "metadata": {},
   "source": [
    "<h4> Roc curve"
   ]
  },
  {
   "cell_type": "code",
   "execution_count": 54,
   "id": "de6b75e8",
   "metadata": {},
   "outputs": [
    {
     "name": "stdout",
     "output_type": "stream",
     "text": [
      "Random Forest ROC-AUC score: 0.8417982808993523\n",
      "Decision Tree ROC-AUC score: 0.8256030764763882\n",
      "Logistic Regression ROC-AUC score: 0.7515107156467193\n"
     ]
    },
    {
     "data": {
      "image/png": "[encoded data removed]",
      "text/plain": [
       "<Figure size 640x480 with 1 Axes>"
      ]
     },
     "metadata": {},
     "output_type": "display_data"
    }
   ],
   "source": [
    "roc_plot(rf_model_up, dt_model_up, lr_model_up)"
   ]
  },
  {
   "cell_type": "markdown",
   "id": "ff133052",
   "metadata": {},
   "source": [
    "<h3> Уменьшение выборки"
   ]
  },
  {
   "cell_type": "markdown",
   "id": "528b3422",
   "metadata": {},
   "source": [
    "Напишем функцию и применим её для уменьшения тренировочной выборки. Обучим на ней модели и посмотрим на значения F1 score и AUC_ROC."
   ]
  },
  {
   "cell_type": "code",
   "execution_count": 55,
   "id": "6bd4ed5d",
   "metadata": {},
   "outputs": [],
   "source": [
    "# функция уменьшения выборки\n",
    "rus = RandomUnderSampler(random_state=12345)\n",
    "features_downsampled, target_downsampled = rus.fit_resample(\n",
    "    features_train, target_train\n",
    ")"
   ]
  },
  {
   "cell_type": "markdown",
   "id": "bb7a3f51",
   "metadata": {},
   "source": [
    "Проверим размерность изначальной тренировочной выборки и полученной в ходе даунсемплинга."
   ]
  },
  {
   "cell_type": "code",
   "execution_count": 56,
   "id": "cdd9ba54",
   "metadata": {},
   "outputs": [
    {
     "name": "stdout",
     "output_type": "stream",
     "text": [
      "Изначальная выборка (6000, 11) (6000,)\n",
      "Апсемплированная выборка (2392, 11) (2392,)\n"
     ]
    }
   ],
   "source": [
    "print('Изначальная выборка', features_train.shape, target_train.shape)\n",
    "print('Апсемплированная выборка', features_downsampled.shape, target_downsampled.shape)"
   ]
  },
  {
   "cell_type": "markdown",
   "id": "9c494dc0",
   "metadata": {},
   "source": [
    "Посмотрим на баланс классов."
   ]
  },
  {
   "cell_type": "code",
   "execution_count": 57,
   "id": "62e67771",
   "metadata": {},
   "outputs": [
    {
     "data": {
      "text/plain": [
       "0    1196\n",
       "1    1196\n",
       "Name: exited, dtype: int64"
      ]
     },
     "execution_count": 57,
     "metadata": {},
     "output_type": "execute_result"
    },
    {
     "data": {
      "image/png": "[encoded data removed]",
      "text/plain": [
       "<Figure size 640x480 with 1 Axes>"
      ]
     },
     "metadata": {},
     "output_type": "display_data"
    }
   ],
   "source": [
    "target_downsampled.value_counts(normalize=1).plot(kind='bar', color='#ab4e52', rot=0)\n",
    "plt.title('Баланс классов уменьшенной выборки')\n",
    "target_downsampled.value_counts()"
   ]
  },
  {
   "cell_type": "markdown",
   "id": "1e17763e",
   "metadata": {},
   "source": [
    "<h4> Random Forest"
   ]
  },
  {
   "cell_type": "code",
   "execution_count": 58,
   "id": "040ccbff",
   "metadata": {},
   "outputs": [
    {
     "name": "stdout",
     "output_type": "stream",
     "text": [
      "Оптимальная глубина дерева: 6            \n",
      "Оптимальное число деревьев: 100            \n",
      "F1 score: 0.6015180265654648\n"
     ]
    }
   ],
   "source": [
    "model_params(RandomForestClassifier, features_downsampled, target_downsampled, None)"
   ]
  },
  {
   "cell_type": "code",
   "execution_count": 59,
   "id": "092cb749",
   "metadata": {},
   "outputs": [
    {
     "name": "stdout",
     "output_type": "stream",
     "text": [
      "CPU times: total: 156 ms\n",
      "Wall time: 172 ms\n"
     ]
    }
   ],
   "source": [
    "%%time\n",
    "\n",
    "rf_model_down = RandomForestClassifier(random_state=12345,\n",
    "                                       max_depth=6,\n",
    "                                       n_estimators=100)\n",
    "rf_model_down.fit(features_downsampled, target_downsampled)\n",
    "rf_preds = rf_model_down.predict(features_valid)"
   ]
  },
  {
   "cell_type": "code",
   "execution_count": 60,
   "id": "3e63110c",
   "metadata": {},
   "outputs": [
    {
     "name": "stdout",
     "output_type": "stream",
     "text": [
      "Accuracy: 0.79 \n",
      "F1 score: 0.6015180265654648 \n",
      "Recall score: 0.7583732057416268 \n",
      "Precision score: 0.49842767295597484\n"
     ]
    }
   ],
   "source": [
    "print_result(rf_preds)"
   ]
  },
  {
   "cell_type": "markdown",
   "id": "368529b6",
   "metadata": {},
   "source": [
    "<h4> Decision Tree"
   ]
  },
  {
   "cell_type": "code",
   "execution_count": 61,
   "id": "2e081e6a",
   "metadata": {},
   "outputs": [
    {
     "name": "stdout",
     "output_type": "stream",
     "text": [
      "Оптимальная глубина дерева: 5\n",
      "F1 score: 0.5943204868154158\n"
     ]
    }
   ],
   "source": [
    "model_params(DecisionTreeClassifier, features_downsampled, target_downsampled, None)"
   ]
  },
  {
   "cell_type": "code",
   "execution_count": 62,
   "id": "6c222f80",
   "metadata": {},
   "outputs": [
    {
     "name": "stdout",
     "output_type": "stream",
     "text": [
      "CPU times: total: 0 ns\n",
      "Wall time: 5.18 ms\n"
     ]
    }
   ],
   "source": [
    "%%time\n",
    "\n",
    "dt_model_down = DecisionTreeClassifier(random_state=12345, max_depth=5)\n",
    "dt_model_down.fit(features_downsampled, target_downsampled)\n",
    "dt_preds = dt_model_down.predict(features_valid)"
   ]
  },
  {
   "cell_type": "code",
   "execution_count": 63,
   "id": "178625a7",
   "metadata": {},
   "outputs": [
    {
     "name": "stdout",
     "output_type": "stream",
     "text": [
      "Accuracy: 0.8 \n",
      "F1 score: 0.5943204868154158 \n",
      "Recall score: 0.7009569377990431 \n",
      "Precision score: 0.5158450704225352\n"
     ]
    }
   ],
   "source": [
    "print_result(dt_preds)"
   ]
  },
  {
   "cell_type": "markdown",
   "id": "74be5e49",
   "metadata": {},
   "source": [
    "<h4> Logistic regression"
   ]
  },
  {
   "cell_type": "code",
   "execution_count": 64,
   "id": "213b7296",
   "metadata": {},
   "outputs": [
    {
     "name": "stdout",
     "output_type": "stream",
     "text": [
      "CPU times: total: 0 ns\n",
      "Wall time: 3.72 ms\n"
     ]
    }
   ],
   "source": [
    "%%time\n",
    "\n",
    "lr_model_down = LogisticRegression(random_state=12345, solver='liblinear')\n",
    "lr_model_down.fit(features_downsampled, target_downsampled)\n",
    "lr_preds = lr_model_down.predict(features_valid)"
   ]
  },
  {
   "cell_type": "code",
   "execution_count": 65,
   "id": "5bc379c9",
   "metadata": {},
   "outputs": [
    {
     "name": "stdout",
     "output_type": "stream",
     "text": [
      "Accuracy: 0.701 \n",
      "F1 score: 0.4853700516351119 \n",
      "Recall score: 0.6746411483253588 \n",
      "Precision score: 0.3790322580645161\n"
     ]
    }
   ],
   "source": [
    "print_result(lr_preds)"
   ]
  },
  {
   "cell_type": "markdown",
   "id": "0804c4ef",
   "metadata": {},
   "source": [
    "<h4> Roc curve"
   ]
  },
  {
   "cell_type": "code",
   "execution_count": 66,
   "id": "13661ef9",
   "metadata": {},
   "outputs": [
    {
     "name": "stdout",
     "output_type": "stream",
     "text": [
      "Random Forest ROC-AUC score: 0.8470623461308137\n",
      "Decision Tree ROC-AUC score: 0.8241029464247908\n",
      "Logistic Regression ROC-AUC score: 0.7620524561605139\n"
     ]
    },
    {
     "data": {
      "image/png": "[encoded data removed]",
      "text/plain": [
       "<Figure size 640x480 with 1 Axes>"
      ]
     },
     "metadata": {},
     "output_type": "display_data"
    }
   ],
   "source": [
    "roc_plot(rf_model_down, dt_model_down, lr_model_down)"
   ]
  },
  {
   "cell_type": "markdown",
   "id": "789355e1",
   "metadata": {},
   "source": [
    "<h3> Взвешивание классов"
   ]
  },
  {
   "cell_type": "markdown",
   "id": "ceeb509c",
   "metadata": {},
   "source": [
    "Для взвешивания классов укажем гиперпараметр `class_weight=\"balanced\"` у каждой модели. Обучим модели и посмотрим на значения F1 score и AUC_ROC."
   ]
  },
  {
   "cell_type": "markdown",
   "id": "42838595",
   "metadata": {},
   "source": [
    "<h4>Random Forest"
   ]
  },
  {
   "cell_type": "code",
   "execution_count": 67,
   "id": "9cc7eb1d",
   "metadata": {},
   "outputs": [
    {
     "name": "stdout",
     "output_type": "stream",
     "text": [
      "Оптимальная глубина дерева: 9            \n",
      "Оптимальное число деревьев: 90            \n",
      "F1 score: 0.6284403669724771\n"
     ]
    }
   ],
   "source": [
    "model_params(RandomForestClassifier, features_train, target_train, 'balanced')"
   ]
  },
  {
   "cell_type": "code",
   "execution_count": 68,
   "id": "6ee4edd2",
   "metadata": {},
   "outputs": [
    {
     "name": "stdout",
     "output_type": "stream",
     "text": [
      "CPU times: total: 281 ms\n",
      "Wall time: 379 ms\n"
     ]
    }
   ],
   "source": [
    "%%time\n",
    "\n",
    "rf_model_balanced = RandomForestClassifier(random_state=12345,\n",
    "                                           class_weight='balanced', \n",
    "                                           max_depth=9,\n",
    "                                           n_estimators=90)\n",
    "rf_model_balanced.fit(features_train, target_train)\n",
    "rf_preds = rf_model_balanced.predict(features_valid)"
   ]
  },
  {
   "cell_type": "code",
   "execution_count": 69,
   "id": "ff27fc75",
   "metadata": {},
   "outputs": [
    {
     "name": "stdout",
     "output_type": "stream",
     "text": [
      "Accuracy: 0.838 \n",
      "F1 score: 0.6284403669724771 \n",
      "Recall score: 0.6555023923444976 \n",
      "Precision score: 0.6035242290748899\n"
     ]
    }
   ],
   "source": [
    "print_result(rf_preds)"
   ]
  },
  {
   "cell_type": "markdown",
   "id": "0d9edea6",
   "metadata": {},
   "source": [
    "<h4>Decision Tree"
   ]
  },
  {
   "cell_type": "code",
   "execution_count": 70,
   "id": "7ba8070f",
   "metadata": {},
   "outputs": [
    {
     "name": "stdout",
     "output_type": "stream",
     "text": [
      "Оптимальная глубина дерева: 5\n",
      "F1 score: 0.5963791267305644\n"
     ]
    }
   ],
   "source": [
    "model_params(DecisionTreeClassifier, features_train, target_train, 'balanced')"
   ]
  },
  {
   "cell_type": "code",
   "execution_count": 71,
   "id": "461fb81c",
   "metadata": {},
   "outputs": [
    {
     "name": "stdout",
     "output_type": "stream",
     "text": [
      "CPU times: total: 0 ns\n",
      "Wall time: 13.9 ms\n"
     ]
    }
   ],
   "source": [
    "%%time\n",
    "\n",
    "dt_model_balanced = DecisionTreeClassifier(random_state=12345, \n",
    "                                           class_weight='balanced', \n",
    "                                           max_depth=5)\n",
    "dt_model_balanced.fit(features_train, target_train)\n",
    "dt_preds = dt_model_balanced.predict(features_valid)"
   ]
  },
  {
   "cell_type": "code",
   "execution_count": 72,
   "id": "57347ad8",
   "metadata": {},
   "outputs": [
    {
     "name": "stdout",
     "output_type": "stream",
     "text": [
      "Accuracy: 0.8105 \n",
      "F1 score: 0.5963791267305644 \n",
      "Recall score: 0.6698564593301436 \n",
      "Precision score: 0.5374280230326296\n"
     ]
    }
   ],
   "source": [
    "print_result(dt_preds)"
   ]
  },
  {
   "cell_type": "markdown",
   "id": "f09a5b19",
   "metadata": {},
   "source": [
    "<h4>Logistic Regression"
   ]
  },
  {
   "cell_type": "code",
   "execution_count": 73,
   "id": "30ef1e7a",
   "metadata": {},
   "outputs": [
    {
     "name": "stdout",
     "output_type": "stream",
     "text": [
      "CPU times: total: 0 ns\n",
      "Wall time: 10.5 ms\n"
     ]
    }
   ],
   "source": [
    "%%time\n",
    "\n",
    "lr_model_balanced = LogisticRegression(random_state=12345, \n",
    "                                       solver='liblinear', \n",
    "                                       class_weight='balanced')\n",
    "lr_model_balanced.fit(features_train, target_train)\n",
    "lr_preds = lr_model_balanced.predict(features_valid)"
   ]
  },
  {
   "cell_type": "code",
   "execution_count": 74,
   "id": "e31f09c6",
   "metadata": {},
   "outputs": [
    {
     "name": "stdout",
     "output_type": "stream",
     "text": [
      "Accuracy: 0.702 \n",
      "F1 score: 0.4888507718696398 \n",
      "Recall score: 0.6818181818181818 \n",
      "Precision score: 0.3810160427807487\n"
     ]
    }
   ],
   "source": [
    "print_result(lr_preds)"
   ]
  },
  {
   "cell_type": "markdown",
   "id": "a659b9a0",
   "metadata": {},
   "source": [
    "<h4>Roc curve"
   ]
  },
  {
   "cell_type": "code",
   "execution_count": 75,
   "id": "3840f622",
   "metadata": {},
   "outputs": [
    {
     "name": "stdout",
     "output_type": "stream",
     "text": [
      "Random Forest ROC-AUC score: 0.8539475196438401\n",
      "Decision Tree ROC-AUC score: 0.8310244134068074\n",
      "Logistic Regression ROC-AUC score: 0.7637310291013133\n"
     ]
    },
    {
     "data": {
      "image/png": "[encoded data removed]",
      "text/plain": [
       "<Figure size 640x480 with 1 Axes>"
      ]
     },
     "metadata": {},
     "output_type": "display_data"
    }
   ],
   "source": [
    "roc_plot(rf_model_balanced, dt_model_balanced, lr_model_balanced)"
   ]
  },
  {
   "cell_type": "markdown",
   "id": "df841dcf",
   "metadata": {},
   "source": [
    "<h3> Вывод"
   ]
  },
  {
   "cell_type": "markdown",
   "id": "0a4fe641",
   "metadata": {},
   "source": [
    "- `Logistic Regression` в каждом случае обучается быстрее остальных моделей"
   ]
  },
  {
   "cell_type": "markdown",
   "id": "fbff9784",
   "metadata": {},
   "source": [
    "- При увеличении выборки, значения F1 score у моделей следующие:\n",
    "  - `Random Forest`: 0.6134453781512605 \n",
    "  - `Decision Tree`: 0.5696969696969697 \n",
    "  - `Logistic Regression`: 0.48138528138528136 \n",
    "- При уменьшении выборки, значения F1 score у моделей следующие:\n",
    "  - `Random Forest`: 0.6015180265654648\n",
    "  - `Decision Tree`: 0.5943204868154158\n",
    "  - `Logistic Regression`: 0.4853700516351119 \n",
    "- При взвешивании классов выборки, значения F1 score у моделей следующее:\n",
    "  - `Random Forest`: 0.6284403669724771  \n",
    "  - `Decision Tree`: 0.5963791267305644\n",
    "  - `Logistic Regression`: 0.4888507718696398"
   ]
  },
  {
   "cell_type": "markdown",
   "id": "3114b292",
   "metadata": {},
   "source": [
    "- При апсемплинге и даунсемплинге модель `Decision Tree` имеет наибольшее значение `accuracy`"
   ]
  },
  {
   "cell_type": "markdown",
   "id": "4a1a881b",
   "metadata": {},
   "source": [
    "- Лучше всего себя показывает модель `Random Forest`, выдавая значение `F1 score: 0.6284403669724771` с гиперпараметрами:\n",
    "  - `class_weight=\"balanced\"`\n",
    "  - `max_depth=9`\n",
    "  - `n_estimators=90`"
   ]
  },
  {
   "cell_type": "markdown",
   "id": "212d33a6",
   "metadata": {},
   "source": [
    "<a id='5'></a>"
   ]
  },
  {
   "cell_type": "markdown",
   "id": "aad3d322",
   "metadata": {},
   "source": [
    "<h2> Тестирование модели"
   ]
  },
  {
   "cell_type": "markdown",
   "id": "fc51fadf",
   "metadata": {},
   "source": [
    "Объединим тестовую и валидационную выборки, чтобы улучшить качество модели."
   ]
  },
  {
   "cell_type": "code",
   "execution_count": 76,
   "id": "24d9606d",
   "metadata": {},
   "outputs": [],
   "source": [
    "features_test = pd.concat([features_test, features_valid], axis=0, ignore_index=True)\n",
    "target_test = pd.concat([target_test, target_valid], axis=0, ignore_index=True)"
   ]
  },
  {
   "cell_type": "markdown",
   "id": "38ba59aa",
   "metadata": {},
   "source": [
    "<div class=\"alert alert-success\">\n",
    "<h2> Комментарий ревьюера <a class=\"tocSkip\"> </h2>\n",
    " \n",
    "👍  Тоже хорошее решение.\n",
    "</div>  \n",
    "    \n"
   ]
  },
  {
   "cell_type": "code",
   "execution_count": 77,
   "id": "b9a93286",
   "metadata": {},
   "outputs": [
    {
     "data": {
      "text/plain": [
       "((4000, 11), (4000,))"
      ]
     },
     "execution_count": 77,
     "metadata": {},
     "output_type": "execute_result"
    }
   ],
   "source": [
    "features_test.shape, target_test.shape"
   ]
  },
  {
   "cell_type": "markdown",
   "id": "87a2d1a5",
   "metadata": {},
   "source": [
    "Протестируем модель"
   ]
  },
  {
   "cell_type": "code",
   "execution_count": 78,
   "id": "eeebaf32",
   "metadata": {},
   "outputs": [
    {
     "name": "stdout",
     "output_type": "stream",
     "text": [
      "CPU times: total: 359 ms\n",
      "Wall time: 381 ms\n"
     ]
    }
   ],
   "source": [
    "%%time\n",
    "\n",
    "rf_final = RandomForestClassifier(random_state=12345,\n",
    "                                  class_weight='balanced',\n",
    "                                  max_depth=9,\n",
    "                                  n_estimators=90)\n",
    "rf_final.fit(features_train, target_train)\n",
    "rf_preds = rf_final.predict(features_test)"
   ]
  },
  {
   "cell_type": "code",
   "execution_count": 79,
   "id": "560866da",
   "metadata": {},
   "outputs": [
    {
     "name": "stdout",
     "output_type": "stream",
     "text": [
      "Accuracy: 0.83275 \n",
      "F1 score: 0.6192373363688106 \n",
      "Recall score: 0.6468489892984542 \n",
      "Precision score: 0.5938864628820961\n"
     ]
    }
   ],
   "source": [
    "print('Accuracy:', accuracy_score(target_test, rf_preds),\n",
    "      '\\nF1 score:', f1_score(target_test, rf_preds), \n",
    "      '\\nRecall score:', recall_score(target_test, rf_preds), \n",
    "      '\\nPrecision score:', precision_score(target_test, rf_preds))"
   ]
  },
  {
   "cell_type": "code",
   "execution_count": 80,
   "id": "406b7688",
   "metadata": {},
   "outputs": [
    {
     "name": "stdout",
     "output_type": "stream",
     "text": [
      "AUC-ROC tree: 0.8543946499422785\n"
     ]
    },
    {
     "data": {
      "image/png": "[encoded data removed]",
      "text/plain": [
       "<Figure size 640x480 with 1 Axes>"
      ]
     },
     "metadata": {},
     "output_type": "display_data"
    }
   ],
   "source": [
    "rf_probs = rf_final.predict_proba(features_test)\n",
    "rf_probs = rf_probs[:, 1]\n",
    "print('AUC-ROC tree:', roc_auc_score(target_test, rf_probs))\n",
    "\n",
    "rf_final_fpr, rf_final_tpr, thresholds = roc_curve(target_test, rf_probs)\n",
    "\n",
    "\n",
    "plt.figure()\n",
    "plt.xlim([0.0, 1.0])\n",
    "plt.ylim([0.0, 1.0])\n",
    "plt.plot(rf_final_fpr, rf_final_tpr, color='#ac2359')\n",
    "plt.xlabel('False Positive Rate')\n",
    "plt.ylabel('True Positive Rate')\n",
    "plt.title('ROC-кривая')\n",
    "plt.legend('Random Forest')\n",
    "\n",
    "plt.plot([0, 1], [0, 1], linestyle='--', color='#382f61')\n",
    "plt.show()"
   ]
  },
  {
   "cell_type": "markdown",
   "id": "ef46c734",
   "metadata": {},
   "source": [
    "<div class=\"alert alert-success\">\n",
    "<h2> Комментарий ревьюера <a class=\"tocSkip\"> </h2>\n",
    " \n",
    "👍 По коду все отлично. По результату также достигаем нужного качества, но, как описал выше, с кросс-валидацией тут включается процесс рандомности. \n",
    "</div>  \n",
    "    \n"
   ]
  },
  {
   "cell_type": "markdown",
   "id": "21ad44e5",
   "metadata": {},
   "source": [
    "Проверим модель на адекватность с помощью `DummyClassifier()`, который делает прогнозы с использованием простых правил и не генерирует никаких ценных сведений о данных. В гиперпараметрах укажем значение `strategy=constant, constant=1`."
   ]
  },
  {
   "cell_type": "code",
   "execution_count": 81,
   "id": "49eeb178",
   "metadata": {},
   "outputs": [
    {
     "data": {
      "text/plain": [
       "0.3474488741995455"
      ]
     },
     "execution_count": 81,
     "metadata": {},
     "output_type": "execute_result"
    }
   ],
   "source": [
    "dc_model = DummyClassifier(random_state=12345, strategy='constant', constant=1)\n",
    "dc_model.fit(features_train, target_train)\n",
    "f1_score(dc_model.predict(features_test), target_test)"
   ]
  },
  {
   "cell_type": "markdown",
   "id": "7f1827ea",
   "metadata": {},
   "source": [
    "<div class=\"alert alert-warning\">\n",
    "<h2> Комментарий ревьюера <a class=\"tocSkip\"> </h2>\n",
    "    \n",
    "<b>Некоторые замечания и рекомендации💡:</b> \n",
    "\n",
    "Здесь в дамми-модели я бы предсказал везде «1». Условно говоря, если предсказываем ноль, моделируем ситуацию, когда акцию с бонусами для удержания клиентов решили не проводить. Если предсказываем единицу − решили раздать бонусы вообще всем клиентам. Если в дамми-модели предсказываем по единице, можно подсчитать F1, она не будет зануляться.\n",
    "    \n",
    "`dummy_model = DummyClassifier(strategy='constant', constant=1)\n",
    "dummy_model.fit(features_train, target_train)\n",
    "f1_score(dummy_model.predict(features_test), target_test)`\n",
    "\n",
    "\n",
    "       \n",
    "</div>\n"
   ]
  },
  {
   "cell_type": "markdown",
   "id": "5d5ace17",
   "metadata": {},
   "source": [
    "<div class=\"alert alert-info\">\n",
    "Изменил гиперпараметры на strategy='constant', constant=1\n",
    "</div>"
   ]
  },
  {
   "cell_type": "markdown",
   "id": "a3235d29",
   "metadata": {},
   "source": [
    "Значение F1 score у нашей модели выше, чем у `DummyClassifier()`, а значит мы можем назвать модель адекватной.\n",
    "\n",
    "Также построим Confusion Matrix, чтобы детально рассмотреть где модель совершает ошибки."
   ]
  },
  {
   "cell_type": "code",
   "execution_count": 82,
   "id": "badf796c",
   "metadata": {},
   "outputs": [
    {
     "data": {
      "image/png": "[encoded data removed]",
      "text/plain": [
       "<Figure size 640x480 with 2 Axes>"
      ]
     },
     "metadata": {},
     "output_type": "display_data"
    }
   ],
   "source": [
    "plot_confusion_matrix(rf_final, features_test, target_test, cmap='BuPu', normalize='true')\n",
    "plt.grid()"
   ]
  },
  {
   "cell_type": "markdown",
   "id": "ba3aafe5",
   "metadata": {},
   "source": [
    "Модель чаще ошибается на позитивных значениях, угадывая их как негативные."
   ]
  },
  {
   "cell_type": "markdown",
   "id": "0d679533",
   "metadata": {},
   "source": [
    "<a id='6'></a>"
   ]
  },
  {
   "cell_type": "markdown",
   "id": "92b5b6d8",
   "metadata": {},
   "source": [
    "<h2> Выводы"
   ]
  },
  {
   "cell_type": "markdown",
   "id": "53067027",
   "metadata": {},
   "source": [
    "<h3> Цель проекта"
   ]
  },
  {
   "cell_type": "markdown",
   "id": "c8973d84",
   "metadata": {},
   "source": [
    "Спрогнозировать, уйдёт клиент из банка в ближайшее время или нет, основываясь на исторических данных о поведении клиентов и расторжении договоров с банком. Построить модель с предельно большим значением F1-меры."
   ]
  },
  {
   "cell_type": "markdown",
   "id": "663d477b",
   "metadata": {},
   "source": [
    "<h3> Исходные данные"
   ]
  },
  {
   "cell_type": "markdown",
   "id": "5e76c723",
   "metadata": {},
   "source": [
    "**Признаки**\n",
    "\n",
    "- `RowNumber` — индекс строки в данных\n",
    "- `CustomerId` — уникальный идентификатор клиента\n",
    "- `Surname` — фамилия\n",
    "- `CreditScore` — кредитный рейтинг\n",
    "- `Geography` — страна проживания\n",
    "- `Gender` — пол\n",
    "- `Age` — возраст\n",
    "- `Tenure` — сколько лет человек является клиентом банка\n",
    "- `Balance` — баланс на счёте\n",
    "- `NumOfProducts` — количество продуктов банка, используемых клиентом\n",
    "- `HasCrCard` — наличие кредитной карты\n",
    "- `IsActiveMember` — активность клиента\n",
    "- `EstimatedSalary` — предполагаемая зарплата\n",
    "\n",
    "**Целевой признак**\n",
    "\n",
    "- `Exited` — факт ухода клиента"
   ]
  },
  {
   "cell_type": "markdown",
   "id": "4b564597",
   "metadata": {},
   "source": [
    "<h3> Выводы"
   ]
  },
  {
   "cell_type": "markdown",
   "id": "6fe312e3",
   "metadata": {},
   "source": [
    "В обзоре данных мы заметили пропуски в данных; изучили корреляцию между признаками и пришли к выводу, что проблема мультиколлинеарности отсутствует.\n",
    "\n",
    "В предобработке данных были приведены к стилю `snake` названия признаков и заполнены пропущенные значения в `tenure`. Дубликатов не было найдено. Были удалены признаки `row_number`, `customer_id` и `surname`.\n",
    "\n",
    "В ходе исследования задачи, мы:\n",
    "- Подготовили данные для моделей, создав тренировочную, валидационную и тестовую выборки в соотношении 3:1:1; применив One-Hot Encoding к `geography` и `gender`; стандартизировав `credit_score`, `age`, `tenure`, `balance`, `num_of_products` и `estimated_salary`"
   ]
  },
  {
   "cell_type": "markdown",
   "id": "58c712f2",
   "metadata": {},
   "source": [
    "- Выявили дисбаланс классов(позитивных значений целевого признака было в 4 раза больше, чем негативных)"
   ]
  },
  {
   "cell_type": "markdown",
   "id": "363a9635",
   "metadata": {},
   "source": [
    "- Обучили модели без учёта дисбаланса классов, однако получили низкие показатели полноты и точности, а соответственно и низкое качество взвешенной величины F1"
   ]
  },
  {
   "cell_type": "markdown",
   "id": "b19b36e9",
   "metadata": {},
   "source": [
    "- Для борьбы с дисбалансом применили несколько методов:\n",
    "  - Увеличение выборки\n",
    "  - Уменьшение выборки\n",
    "  - Взвешивание классов"
   ]
  },
  {
   "cell_type": "markdown",
   "id": "816dc77b",
   "metadata": {},
   "source": [
    "- Лучший результат показала модель `Random Forest` с гиперпараметрами:\n",
    "  - `class_weight=\"balanced\"`, \n",
    "  - `max_depth=9`\n",
    "  - `n_estimators=90`\n",
    "- Показатели модели:\n",
    "  - `Accuracy: 0.838`\n",
    "  - `F1 score: 0.6284403669724771` \n",
    "  - `Recall score: 0.6555023923444976` \n",
    "  - `Precision score: 0.6035242290748899`"
   ]
  },
  {
   "cell_type": "markdown",
   "id": "08b647f5",
   "metadata": {},
   "source": [
    "Найдя лучшую модель для нашей задачи, мы протестировали её на тестовой выборке, которую перед этим объединили с валидационной, и получили следующие показатели:\n",
    "\n",
    "- `Accuracy: 0.83275` \n",
    "- `F1 score: 0.6192373363688106` \n",
    "- `Recall score: 0.6468489892984542` \n",
    "- `Precision score: 0.5938864628820961`\n",
    "\n",
    "В конце мы проверили модель на адекватность с помощью метода `DummyClassifier()` и убедились в том, что модель адекватно работает.\n",
    "\n",
    "Поставленная цель была достигнута, так как мы построили модель с метрикой, большей чем 0.59"
   ]
  }
 ],
 "metadata": {
  "ExecuteTimeLog": [
   {
    "duration": 3273,
    "start_time": "2023-07-19T07:58:05.658Z"
   },
   {
    "duration": 97,
    "start_time": "2023-07-19T07:58:08.933Z"
   },
   {
    "duration": 297,
    "start_time": "2023-07-19T07:58:09.032Z"
   },
   {
    "duration": 5,
    "start_time": "2023-07-19T07:58:09.331Z"
   },
   {
    "duration": 19,
    "start_time": "2023-07-19T07:58:09.338Z"
   },
   {
    "duration": 65,
    "start_time": "2023-07-19T07:58:09.358Z"
   },
   {
    "duration": 22,
    "start_time": "2023-07-19T07:58:09.424Z"
   },
   {
    "duration": 68,
    "start_time": "2023-07-19T07:58:09.447Z"
   },
   {
    "duration": 12,
    "start_time": "2023-07-19T07:58:09.516Z"
   },
   {
    "duration": 17,
    "start_time": "2023-07-19T07:58:09.531Z"
   },
   {
    "duration": 68,
    "start_time": "2023-07-19T07:58:09.550Z"
   },
   {
    "duration": 32,
    "start_time": "2023-07-19T07:58:09.620Z"
   },
   {
    "duration": 74,
    "start_time": "2023-07-19T07:58:09.654Z"
   },
   {
    "duration": 5,
    "start_time": "2023-07-19T07:58:09.731Z"
   },
   {
    "duration": 8,
    "start_time": "2023-07-19T07:58:09.738Z"
   },
   {
    "duration": 69,
    "start_time": "2023-07-19T07:58:09.748Z"
   },
   {
    "duration": 4,
    "start_time": "2023-07-19T07:58:09.820Z"
   },
   {
    "duration": 120,
    "start_time": "2023-07-19T07:58:09.826Z"
   },
   {
    "duration": 85,
    "start_time": "2023-07-19T07:58:09.948Z"
   },
   {
    "duration": 309,
    "start_time": "2023-07-19T07:58:10.035Z"
   },
   {
    "duration": 6,
    "start_time": "2023-07-19T07:58:10.346Z"
   },
   {
    "duration": 9,
    "start_time": "2023-07-19T07:58:10.413Z"
   },
   {
    "duration": 23,
    "start_time": "2023-07-19T07:58:10.424Z"
   },
   {
    "duration": 232659,
    "start_time": "2023-07-19T07:58:10.450Z"
   },
   {
    "duration": 281,
    "start_time": "2023-07-19T08:02:03.111Z"
   },
   {
    "duration": 21,
    "start_time": "2023-07-19T08:02:03.393Z"
   },
   {
    "duration": 16562,
    "start_time": "2023-07-19T08:02:03.416Z"
   },
   {
    "duration": 19,
    "start_time": "2023-07-19T08:02:19.982Z"
   },
   {
    "duration": 17,
    "start_time": "2023-07-19T08:02:20.003Z"
   },
   {
    "duration": 90,
    "start_time": "2023-07-19T08:02:20.022Z"
   },
   {
    "duration": 130,
    "start_time": "2023-07-19T08:02:20.114Z"
   },
   {
    "duration": 443,
    "start_time": "2023-07-19T08:02:20.246Z"
   },
   {
    "duration": 979,
    "start_time": "2023-07-19T08:02:20.692Z"
   },
   {
    "duration": 4,
    "start_time": "2023-07-19T08:02:21.673Z"
   },
   {
    "duration": 133,
    "start_time": "2023-07-19T08:02:21.679Z"
   },
   {
    "duration": 148,
    "start_time": "2023-07-19T08:02:21.814Z"
   },
   {
    "duration": 311599,
    "start_time": "2023-07-19T08:02:21.963Z"
   },
   {
    "duration": 503,
    "start_time": "2023-07-19T08:07:33.563Z"
   },
   {
    "duration": 11,
    "start_time": "2023-07-19T08:07:34.068Z"
   },
   {
    "duration": 21660,
    "start_time": "2023-07-19T08:07:34.081Z"
   },
   {
    "duration": 43,
    "start_time": "2023-07-19T08:07:55.743Z"
   },
   {
    "duration": 29,
    "start_time": "2023-07-19T08:07:55.788Z"
   },
   {
    "duration": 96,
    "start_time": "2023-07-19T08:07:55.820Z"
   },
   {
    "duration": 97,
    "start_time": "2023-07-19T08:07:55.918Z"
   },
   {
    "duration": 377,
    "start_time": "2023-07-19T08:07:56.017Z"
   },
   {
    "duration": 5,
    "start_time": "2023-07-19T08:07:56.396Z"
   },
   {
    "duration": 20,
    "start_time": "2023-07-19T08:07:56.402Z"
   },
   {
    "duration": 142,
    "start_time": "2023-07-19T08:07:56.423Z"
   },
   {
    "duration": 140096,
    "start_time": "2023-07-19T08:07:56.567Z"
   },
   {
    "duration": 115,
    "start_time": "2023-07-19T08:10:16.665Z"
   },
   {
    "duration": 9,
    "start_time": "2023-07-19T08:10:16.782Z"
   },
   {
    "duration": 10417,
    "start_time": "2023-07-19T08:10:16.793Z"
   },
   {
    "duration": 14,
    "start_time": "2023-07-19T08:10:27.212Z"
   },
   {
    "duration": 121,
    "start_time": "2023-07-19T08:10:27.228Z"
   },
   {
    "duration": 90,
    "start_time": "2023-07-19T08:10:27.351Z"
   },
   {
    "duration": 81,
    "start_time": "2023-07-19T08:10:27.442Z"
   },
   {
    "duration": 478,
    "start_time": "2023-07-19T08:10:27.526Z"
   },
   {
    "duration": 242790,
    "start_time": "2023-07-19T08:10:28.006Z"
   },
   {
    "duration": 316,
    "start_time": "2023-07-19T08:14:30.798Z"
   },
   {
    "duration": 90,
    "start_time": "2023-07-19T08:14:31.115Z"
   },
   {
    "duration": 18707,
    "start_time": "2023-07-19T08:14:31.207Z"
   },
   {
    "duration": 36,
    "start_time": "2023-07-19T08:14:49.916Z"
   },
   {
    "duration": 45,
    "start_time": "2023-07-19T08:14:49.954Z"
   },
   {
    "duration": 114,
    "start_time": "2023-07-19T08:14:50.001Z"
   },
   {
    "duration": 97,
    "start_time": "2023-07-19T08:14:50.117Z"
   },
   {
    "duration": 381,
    "start_time": "2023-07-19T08:14:50.216Z"
   },
   {
    "duration": 6,
    "start_time": "2023-07-19T08:14:50.599Z"
   },
   {
    "duration": 93,
    "start_time": "2023-07-19T08:14:50.614Z"
   },
   {
    "duration": 392,
    "start_time": "2023-07-19T08:14:50.709Z"
   },
   {
    "duration": 19,
    "start_time": "2023-07-19T08:14:51.104Z"
   },
   {
    "duration": 341,
    "start_time": "2023-07-19T08:14:51.125Z"
   },
   {
    "duration": 7,
    "start_time": "2023-07-19T08:14:51.468Z"
   },
   {
    "duration": 76,
    "start_time": "2023-07-19T08:14:51.477Z"
   },
   {
    "duration": 289,
    "start_time": "2023-07-19T08:14:51.554Z"
   }
  ],
  "kernelspec": {
   "display_name": "Python 3 (ipykernel)",
   "language": "python",
   "name": "python3"
  },
  "language_info": {
   "codemirror_mode": {
    "name": "ipython",
    "version": 3
   },
   "file_extension": ".py",
   "mimetype": "text/x-python",
   "name": "python",
   "nbconvert_exporter": "python",
   "pygments_lexer": "ipython3",
   "version": "3.11.6"
  },
  "toc": {
   "base_numbering": 1,
   "nav_menu": {},
   "number_sections": true,
   "sideBar": true,
   "skip_h1_title": true,
   "title_cell": "",
   "title_sidebar": "",
   "toc_cell": false,
   "toc_position": {
    "height": "calc(100% - 180px)",
    "left": "10px",
    "top": "150px",
    "width": "242.167px"
   },
   "toc_section_display": true,
   "toc_window_display": true
  }
 },
 "nbformat": 4,
 "nbformat_minor": 5
}
